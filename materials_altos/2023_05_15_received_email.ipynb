{
 "cells": [
  {
   "cell_type": "code",
   "execution_count": 1,
   "id": "295c1710",
   "metadata": {},
   "outputs": [],
   "source": [
    "import numpy as np\n",
    "import scipy as sp\n",
    "import matplotlib.pyplot as plt\n",
    "\n",
    "np.set_printoptions(formatter={'float': lambda x: \"{0:0.3f}\".format(x)})"
   ]
  },
  {
   "cell_type": "code",
   "execution_count": 2,
   "id": "9ae20a47",
   "metadata": {},
   "outputs": [
    {
     "name": "stdout",
     "output_type": "stream",
     "text": [
      "There are  (4,) global min.\n",
      "The lowest energy states/global min. are the row vectors of matrix\n",
      " [[[-1 -1 -1  1  1  1 -1 -1 -1]]\n",
      "\n",
      " [[-1 -1 -1  1  1  1  1  1  1]]\n",
      "\n",
      " [[ 1  1  1 -1 -1 -1 -1 -1 -1]]\n",
      "\n",
      " [[ 1  1  1 -1 -1 -1  1  1  1]]]\n"
     ]
    }
   ],
   "source": [
    "# Construct the gene-gene interaction matrix J\n",
    "xi1 = np.array([ 1, 1, 1,-1,-1,-1,-1,-1,-1])\n",
    "xi2 = np.array([-1,-1,-1, 1, 1, 1,-1,-1,-1])\n",
    "#xi3 = np.array([-1,-1,-1,-1,-1,-1, 1, 1, 1])\n",
    "\n",
    "#xi = np.stack((xi1, xi2, xi3), axis=-1)\n",
    "xi = np.stack((xi1, xi2), axis=-1)\n",
    "Jhat = xi@np.linalg.inv(xi.T@xi)@xi.T\n",
    "J = Jhat #- np.diag(np.diag(Jhat))\n",
    "#LA.eig(J)\n",
    "\n",
    "# Verify the lowest energy state in a single cell\n",
    "S = np.stack(np.meshgrid([-1, 1], [-1, 1], [-1, 1], [-1, 1],[-1, 1], [-1, 1], [-1, 1], [-1, 1], [-1, 1]), -1).reshape(-1, 9).T\n",
    "H = np.diag(-S.T@J@S/2)\n",
    "\n",
    "xi_low = S[:,np.where(np.absolute(H - H.min())<1e-6)]\n",
    "print(\"There are \",xi_low[0,0,:].shape,\"global min.\")\n",
    "print(\"The lowest energy states/global min. are the row vectors of matrix\\n\",xi_low.T)"
   ]
  },
  {
   "cell_type": "code",
   "execution_count": 3,
   "id": "d69a0ab6",
   "metadata": {},
   "outputs": [
    {
     "data": {
      "text/plain": [
       "<matplotlib.image.AxesImage at 0x11a6d2550>"
      ]
     },
     "execution_count": 3,
     "metadata": {},
     "output_type": "execute_result"
    },
    {
     "data": {
      "image/png": "[encoded data removed]",
      "text/plain": [
       "<Figure size 640x480 with 1 Axes>"
      ]
     },
     "metadata": {},
     "output_type": "display_data"
    }
   ],
   "source": [
    "plt.imshow(Jhat - Jhat.T)"
   ]
  },
  {
   "cell_type": "code",
   "execution_count": 4,
   "id": "3ec5c900",
   "metadata": {},
   "outputs": [
    {
     "data": {
      "text/plain": [
       "array([[0.167, 0.000, 0.000, 0.000, 0.000, 0.000, 0.000, 0.000, 0.000],\n",
       "       [0.000, 0.167, 0.000, 0.000, 0.000, 0.000, 0.000, 0.000, 0.000],\n",
       "       [0.000, 0.000, 0.167, 0.000, 0.000, 0.000, 0.000, 0.000, 0.000],\n",
       "       [0.000, 0.000, 0.000, 0.167, 0.000, 0.000, 0.000, 0.000, 0.000],\n",
       "       [0.000, 0.000, 0.000, 0.000, 0.167, 0.000, 0.000, 0.000, 0.000],\n",
       "       [0.000, 0.000, 0.000, 0.000, 0.000, 0.167, 0.000, 0.000, 0.000],\n",
       "       [0.000, 0.000, 0.000, 0.000, 0.000, 0.000, 0.333, 0.000, 0.000],\n",
       "       [0.000, 0.000, 0.000, 0.000, 0.000, 0.000, 0.000, 0.333, 0.000],\n",
       "       [0.000, 0.000, 0.000, 0.000, 0.000, 0.000, 0.000, 0.000, 0.333]])"
      ]
     },
     "execution_count": 4,
     "metadata": {},
     "output_type": "execute_result"
    }
   ],
   "source": [
    "np.diag(np.diag(Jhat))"
   ]
  },
  {
   "cell_type": "markdown",
   "id": "78967b76",
   "metadata": {},
   "source": [
    "# Construct $J_{ij}$ for some choice of pattern vectors"
   ]
  },
  {
   "cell_type": "code",
   "execution_count": 5,
   "id": "b9b1f119",
   "metadata": {},
   "outputs": [
    {
     "name": "stdout",
     "output_type": "stream",
     "text": [
      "[[ 1 -1 -1]\n",
      " [ 1 -1 -1]\n",
      " [ 1 -1 -1]\n",
      " [-1  1 -1]\n",
      " [-1  1 -1]\n",
      " [-1  1 -1]\n",
      " [-1 -1  1]\n",
      " [-1 -1  1]\n",
      " [-1 -1  1]]\n"
     ]
    }
   ],
   "source": [
    "xi_1 = [1,   1,  1, -1, -1, -1, -1, -1, -1]\n",
    "xi_2 = [-1, -1, -1,  1,  1,  1, -1, -1, -1]\n",
    "xi_3 = [-1, -1, -1, -1, -1, -1,  1,  1 , 1]\n",
    "xi_matrix = np.array([xi_1, xi_2, xi_3]).T\n",
    "print(xi_matrix)"
   ]
  },
  {
   "cell_type": "code",
   "execution_count": 6,
   "id": "5a890b0c",
   "metadata": {},
   "outputs": [
    {
     "name": "stdout",
     "output_type": "stream",
     "text": [
      "9 3\n"
     ]
    }
   ],
   "source": [
    "N, p = xi_matrix.shape\n",
    "print(N, p)"
   ]
  },
  {
   "cell_type": "code",
   "execution_count": 7,
   "id": "d9246226",
   "metadata": {},
   "outputs": [
    {
     "name": "stdout",
     "output_type": "stream",
     "text": [
      "[[ 9 -3 -3]\n",
      " [-3  9 -3]\n",
      " [-3 -3  9]]\n"
     ]
    }
   ],
   "source": [
    "A_matrix = xi_matrix.T @ xi_matrix\n",
    "print(A_matrix)"
   ]
  },
  {
   "cell_type": "code",
   "execution_count": 8,
   "id": "3823d504",
   "metadata": {},
   "outputs": [
    {
     "name": "stdout",
     "output_type": "stream",
     "text": [
      "[[0.167 0.083 0.083]\n",
      " [0.083 0.167 0.083]\n",
      " [0.083 0.083 0.167]]\n"
     ]
    }
   ],
   "source": [
    "A_inverse = np.linalg.inv(A_matrix)\n",
    "print(A_inverse)"
   ]
  },
  {
   "cell_type": "code",
   "execution_count": 9,
   "id": "30d18684",
   "metadata": {},
   "outputs": [
    {
     "name": "stdout",
     "output_type": "stream",
     "text": [
      "[[0.333 0.333 0.333 0.000 0.000 0.000 0.000 0.000 0.000]\n",
      " [0.333 0.333 0.333 0.000 0.000 0.000 0.000 0.000 0.000]\n",
      " [0.333 0.333 0.333 0.000 0.000 0.000 0.000 0.000 0.000]\n",
      " [0.000 0.000 0.000 0.333 0.333 0.333 0.000 0.000 0.000]\n",
      " [0.000 0.000 0.000 0.333 0.333 0.333 0.000 0.000 0.000]\n",
      " [0.000 0.000 0.000 0.333 0.333 0.333 0.000 0.000 0.000]\n",
      " [0.000 0.000 0.000 0.000 0.000 0.000 0.333 0.333 0.333]\n",
      " [0.000 0.000 0.000 0.000 0.000 0.000 0.333 0.333 0.333]\n",
      " [0.000 0.000 0.000 0.000 0.000 0.000 0.333 0.333 0.333]]\n"
     ]
    }
   ],
   "source": [
    "J_matrix = xi_matrix @ A_inverse @ xi_matrix.T\n",
    "print(J_matrix)"
   ]
  },
  {
   "cell_type": "code",
   "execution_count": 10,
   "id": "87d5a79f",
   "metadata": {},
   "outputs": [
    {
     "name": "stdout",
     "output_type": "stream",
     "text": [
      "[[0.000 0.333 0.333 0.000 0.000 0.000 0.000 0.000 0.000]\n",
      " [0.333 0.000 0.333 0.000 0.000 0.000 0.000 0.000 0.000]\n",
      " [0.333 0.333 0.000 0.000 0.000 0.000 0.000 0.000 0.000]\n",
      " [0.000 0.000 0.000 0.000 0.333 0.333 0.000 0.000 0.000]\n",
      " [0.000 0.000 0.000 0.333 0.000 0.333 0.000 0.000 0.000]\n",
      " [0.000 0.000 0.000 0.333 0.333 0.000 0.000 0.000 0.000]\n",
      " [0.000 0.000 0.000 0.000 0.000 0.000 0.000 0.333 0.333]\n",
      " [0.000 0.000 0.000 0.000 0.000 0.000 0.333 0.000 0.333]\n",
      " [0.000 0.000 0.000 0.000 0.000 0.000 0.333 0.333 0.000]]\n"
     ]
    }
   ],
   "source": [
    "J_matrix_hollowed = J_matrix - np.diag(np.diag(J_matrix))\n",
    "print(J_matrix_hollowed)"
   ]
  },
  {
   "cell_type": "markdown",
   "id": "bb691f3c",
   "metadata": {},
   "source": [
    "# Eigenvalues and eigenvectors for $\\bf{J}$"
   ]
  },
  {
   "cell_type": "code",
   "execution_count": 11,
   "id": "6859b7bc",
   "metadata": {},
   "outputs": [],
   "source": [
    "w, v = np.linalg.eig(J_matrix)"
   ]
  },
  {
   "cell_type": "code",
   "execution_count": 12,
   "id": "3346fb73",
   "metadata": {},
   "outputs": [
    {
     "data": {
      "text/plain": [
       "array([1.000, -0.000, -0.000, 1.000, -0.000, -0.000, 1.000, 0.000, -0.000])"
      ]
     },
     "execution_count": 12,
     "metadata": {},
     "output_type": "execute_result"
    }
   ],
   "source": [
    "w"
   ]
  },
  {
   "cell_type": "code",
   "execution_count": 13,
   "id": "ba395c11",
   "metadata": {},
   "outputs": [
    {
     "data": {
      "text/plain": [
       "array([[0.577, -0.000, 0.496, 0.000, 0.000, 0.000, 0.000, 0.000, 0.000],\n",
       "       [0.577, -0.707, -0.810, 0.000, 0.000, 0.000, 0.000, 0.000, 0.000],\n",
       "       [0.577, 0.707, 0.314, 0.000, 0.000, 0.000, 0.000, 0.000, 0.000],\n",
       "       [0.000, 0.000, 0.000, 0.577, -0.000, 0.496, 0.000, 0.000, 0.000],\n",
       "       [0.000, 0.000, 0.000, 0.577, -0.707, -0.810, 0.000, 0.000, 0.000],\n",
       "       [0.000, 0.000, 0.000, 0.577, 0.707, 0.314, 0.000, 0.000, 0.000],\n",
       "       [0.000, 0.000, 0.000, 0.000, 0.000, 0.000, 0.577, -0.000, 0.784],\n",
       "       [0.000, 0.000, 0.000, 0.000, 0.000, 0.000, 0.577, -0.707, -0.590],\n",
       "       [0.000, 0.000, 0.000, 0.000, 0.000, 0.000, 0.577, 0.707, -0.194]])"
      ]
     },
     "execution_count": 13,
     "metadata": {},
     "output_type": "execute_result"
    }
   ],
   "source": [
    "v"
   ]
  },
  {
   "cell_type": "code",
   "execution_count": 14,
   "id": "f0dc7ec4",
   "metadata": {},
   "outputs": [
    {
     "data": {
      "text/plain": [
       "array([1.000, 1.000, 1.000, -1.000, -1.000, -1.000, -1.000, -1.000,\n",
       "       -1.000])"
      ]
     },
     "execution_count": 14,
     "metadata": {},
     "output_type": "execute_result"
    }
   ],
   "source": [
    "J_matrix @ xi_1"
   ]
  },
  {
   "cell_type": "code",
   "execution_count": 15,
   "id": "7fee1f66",
   "metadata": {},
   "outputs": [
    {
     "data": {
      "text/plain": [
       "array([-1.000, -1.000, -1.000, 1.000, 1.000, 1.000, -1.000, -1.000,\n",
       "       -1.000])"
      ]
     },
     "execution_count": 15,
     "metadata": {},
     "output_type": "execute_result"
    }
   ],
   "source": [
    "J_matrix @ xi_2"
   ]
  },
  {
   "cell_type": "code",
   "execution_count": 16,
   "id": "1a7812da",
   "metadata": {},
   "outputs": [
    {
     "data": {
      "text/plain": [
       "array([-1.000, -1.000, -1.000, -1.000, -1.000, -1.000, 1.000, 1.000,\n",
       "       1.000])"
      ]
     },
     "execution_count": 16,
     "metadata": {},
     "output_type": "execute_result"
    }
   ],
   "source": [
    "J_matrix @ xi_3"
   ]
  },
  {
   "cell_type": "code",
   "execution_count": 17,
   "id": "66d48e4b",
   "metadata": {},
   "outputs": [
    {
     "data": {
      "text/plain": [
       "<matplotlib.image.AxesImage at 0x11a8540a0>"
      ]
     },
     "execution_count": 17,
     "metadata": {},
     "output_type": "execute_result"
    },
    {
     "data": {
      "image/png": "[encoded data removed]",
      "text/plain": [
       "<Figure size 640x480 with 1 Axes>"
      ]
     },
     "metadata": {},
     "output_type": "display_data"
    }
   ],
   "source": [
    "plt.imshow(J_matrix)"
   ]
  },
  {
   "cell_type": "markdown",
   "id": "bd3ef736",
   "metadata": {},
   "source": [
    "# Eigenvalues and eigenvectors for $\\bf{J'}$ with $J_{ii}$ set to $0$"
   ]
  },
  {
   "cell_type": "code",
   "execution_count": 18,
   "id": "8c2ea373",
   "metadata": {},
   "outputs": [],
   "source": [
    "w_prime, v_prime = np.linalg.eig(J_matrix_hollowed)"
   ]
  },
  {
   "cell_type": "code",
   "execution_count": 19,
   "id": "f6a3c923",
   "metadata": {},
   "outputs": [
    {
     "data": {
      "text/plain": [
       "array([-0.333, 0.667, -0.333, -0.333, 0.667, -0.333, -0.333, 0.667,\n",
       "       -0.333])"
      ]
     },
     "execution_count": 19,
     "metadata": {},
     "output_type": "execute_result"
    }
   ],
   "source": [
    "w_prime"
   ]
  },
  {
   "cell_type": "code",
   "execution_count": 20,
   "id": "8039cc58",
   "metadata": {},
   "outputs": [
    {
     "data": {
      "text/plain": [
       "array([[-0.816, 0.577, -0.128, 0.000, 0.000, 0.000, 0.000, 0.000, 0.000],\n",
       "       [0.408, 0.577, -0.634, 0.000, 0.000, 0.000, 0.000, 0.000, 0.000],\n",
       "       [0.408, 0.577, 0.762, 0.000, 0.000, 0.000, 0.000, 0.000, 0.000],\n",
       "       [0.000, 0.000, 0.000, -0.816, 0.577, -0.128, 0.000, 0.000, 0.000],\n",
       "       [0.000, 0.000, 0.000, 0.408, 0.577, -0.634, 0.000, 0.000, 0.000],\n",
       "       [0.000, 0.000, 0.000, 0.408, 0.577, 0.762, 0.000, 0.000, 0.000],\n",
       "       [0.000, 0.000, 0.000, 0.000, 0.000, 0.000, -0.816, 0.577, -0.099],\n",
       "       [0.000, 0.000, 0.000, 0.000, 0.000, 0.000, 0.408, 0.577, -0.652],\n",
       "       [0.000, 0.000, 0.000, 0.000, 0.000, 0.000, 0.408, 0.577, 0.751]])"
      ]
     },
     "execution_count": 20,
     "metadata": {},
     "output_type": "execute_result"
    }
   ],
   "source": [
    "v_prime"
   ]
  },
  {
   "cell_type": "code",
   "execution_count": 21,
   "id": "24c69bd8",
   "metadata": {},
   "outputs": [
    {
     "data": {
      "text/plain": [
       "array([0.667, 0.667, 0.667, -0.667, -0.667, -0.667, -0.667, -0.667,\n",
       "       -0.667])"
      ]
     },
     "execution_count": 21,
     "metadata": {},
     "output_type": "execute_result"
    }
   ],
   "source": [
    "J_matrix_hollowed @ xi_1 "
   ]
  },
  {
   "cell_type": "code",
   "execution_count": 22,
   "id": "2a3b2c57",
   "metadata": {},
   "outputs": [
    {
     "data": {
      "text/plain": [
       "array([-0.667, -0.667, -0.667, 0.667, 0.667, 0.667, -0.667, -0.667,\n",
       "       -0.667])"
      ]
     },
     "execution_count": 22,
     "metadata": {},
     "output_type": "execute_result"
    }
   ],
   "source": [
    "J_matrix_hollowed @ xi_2"
   ]
  },
  {
   "cell_type": "code",
   "execution_count": 23,
   "id": "ecf8c441",
   "metadata": {},
   "outputs": [
    {
     "data": {
      "text/plain": [
       "array([-0.667, -0.667, -0.667, -0.667, -0.667, -0.667, 0.667, 0.667,\n",
       "       0.667])"
      ]
     },
     "execution_count": 23,
     "metadata": {},
     "output_type": "execute_result"
    }
   ],
   "source": [
    "J_matrix_hollowed @ xi_3"
   ]
  },
  {
   "cell_type": "code",
   "execution_count": 24,
   "id": "ef2a0864",
   "metadata": {},
   "outputs": [
    {
     "data": {
      "text/plain": [
       "<matplotlib.image.AxesImage at 0x11a8ccbe0>"
      ]
     },
     "execution_count": 24,
     "metadata": {},
     "output_type": "execute_result"
    },
    {
     "data": {
      "image/png": "[encoded data removed]",
      "text/plain": [
       "<Figure size 640x480 with 1 Axes>"
      ]
     },
     "metadata": {},
     "output_type": "display_data"
    }
   ],
   "source": [
    "plt.imshow(J_matrix_hollowed)"
   ]
  },
  {
   "cell_type": "code",
   "execution_count": null,
   "id": "aaafe5da",
   "metadata": {},
   "outputs": [],
   "source": []
  }
 ],
 "metadata": {
  "kernelspec": {
   "display_name": "Python 3 (ipykernel)",
   "language": "python",
   "name": "python3"
  },
  "language_info": {
   "codemirror_mode": {
    "name": "ipython",
    "version": 3
   },
   "file_extension": ".py",
   "mimetype": "text/x-python",
   "name": "python",
   "nbconvert_exporter": "python",
   "pygments_lexer": "ipython3",
   "version": "3.9.6"
  }
 },
 "nbformat": 4,
 "nbformat_minor": 5
}
