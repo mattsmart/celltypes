{
 "cells": [
  {
   "cell_type": "markdown",
   "id": "66598d3a",
   "metadata": {},
   "source": [
    "# Tissue Patterning"
   ]
  },
  {
   "cell_type": "markdown",
   "id": "79400ae7",
   "metadata": {},
   "source": [
    "## 1. Emergent properties of collective gene-expression patterns in multicellular systems\n",
    "Smart, M., & Zilman, A. (2023). Emergent properties of collective gene-expression patterns in multicellular systems. *Cell Reports Physical Science*, 101247.\n",
    "[Paper Link](https://doi.org/10.1016/j.xcrp.2023.101247)\n",
    "### 1.1 Single-cell model\n",
    "Assume cell state is described by the activity of $N$ genes in the cell. Let $\\xi_1, \\ldots, \\xi_N$ denotes the desired cell types, with $\\xi_i\\in\\{1,-1\\}^N$. Let $\\hat{J}=\\xi(\\xi^{T}\\xi)^{-1}\\xi^T$ represent the gene-gene interactions. \n",
    "* First, we want to show that $\\xi_i$ is the eigenvector of matrix $\\hat{J}$. That is to show that $$\\hat{J}\\xi_i=\\lambda_i\\xi_i.$$\n",
    "Let $A=(\\xi^{T}\\xi)^{-1}\\xi^T$. Note that \n",
    "$$A\\xi=(\\xi^{T}\\xi)^{-1}\\xi^T\\xi=I.$$\n",
    "This implies the following,\n",
    "\\begin{align*}\n",
    "\\hat{J}\\xi&=\\xi A \\xi\\\\\n",
    "&=\\xi I\\\\\n",
    "&=I\\xi.\n",
    "\\end{align*}\n",
    "Therefore, $\\xi_i$ are eigenvectors of matrix $\\hat{J}$ for the repeated eigenvaule $\\lambda=1$.\n",
    "\n",
    "\n",
    "* Next, to get the final gene-gene interaction matrix J, the authors set the diagonal value to zero. That is,\n",
    "$$J=\\hat J - \\text{diag}(\\hat J).$$\n",
    "Assuming all entries of matrix $\\hat J$ are the same, the above transformation won't change the eigenspace of the matrix. But, is it guaranteed all diagonal entries are the same? "
   ]
  },
  {
   "cell_type": "code",
   "execution_count": 1,
   "id": "ae4d763e",
   "metadata": {},
   "outputs": [
    {
     "name": "stdout",
     "output_type": "stream",
     "text": [
      "[-1.  1.  1.  1.]\n"
     ]
    }
   ],
   "source": [
    "import numpy as np\n",
    "import random\n",
    "from numpy.linalg import inv\n",
    "from scipy.stats import bernoulli\n",
    "from numpy import linalg as LA\n",
    "\n",
    "# Construct the gene-gene interaction matrix J\n",
    "xi1 = np.array([1,1,-1,1])\n",
    "xi2 = np.array([-1,1,1,1])\n",
    "\n",
    "# xi1 = np.array([ 1, 1, 1,-1,-1,-1,-1,-1,-1])\n",
    "# xi2 = np.array([-1,-1,-1, 1,-1,-1,-1,-1,-1])\n",
    "# xi3 = np.array([-1,-1,-1,-1,-1,-1, 1, 1, 1])\n",
    "\n",
    "xi = np.stack((xi1, xi2), axis=-1)\n",
    "Jhat = xi@inv(xi.T@xi)@xi.T\n",
    "J = Jhat - np.diag(np.diag(Jhat))\n",
    "print(Jhat@xi2)"
   ]
  },
  {
   "cell_type": "markdown",
   "id": "1e1bd496",
   "metadata": {},
   "source": [
    "### 1.2 Single Cell Hamiltonian\n",
    "\n",
    "$$\\mathcal{H}(s_0)= -\\frac12(s^TJs) - h^Ts$$"
   ]
  },
  {
   "cell_type": "code",
   "execution_count": 2,
   "id": "430d867f",
   "metadata": {},
   "outputs": [
    {
     "name": "stdout",
     "output_type": "stream",
     "text": [
      "The lowest energy states in a single cell are the coloumn vectors of matrix\n",
      " [[[-1  1 -1  1]]\n",
      "\n",
      " [[-1 -1  1  1]]\n",
      "\n",
      " [[ 1 -1  1 -1]]\n",
      "\n",
      " [[-1 -1  1  1]]]\n"
     ]
    }
   ],
   "source": [
    "# Generate all possible states of the cell and verify the lowest energy state in a single cell\n",
    "xn = xi1.shape[0]\n",
    "comb = np.tile([-1,1], (xn, 1)).tolist()\n",
    "S = np.stack(np.meshgrid(*comb), -1).reshape(-1, xn).T\n",
    "H = np.diag(-S.T@J@S/2)\n",
    "print(\"The lowest energy states in a single cell are the coloumn vectors of matrix\\n\", S[:,np.where(H == H.min())])"
   ]
  },
  {
   "cell_type": "markdown",
   "id": "06ccff4d",
   "metadata": {},
   "source": [
    "### 1.3 Multicellular Model\n",
    "\n",
    "Assume a given tissue (multicellular stystem) has $M$ different cells. Let $s_i\\in\\{1,-1\\}^N$ represent the $i$-th cell. The Hamiltonian of the system is calculated as the following,\n",
    "$$\\mathcal{H}(s_1,s_2,\\ldots, s_M)=\\sum_i^M -\\frac12(s_i^TJs_i)+\\gamma \\sum_i\\sum_j A_{ij}f(s_i,s_j).$$\n",
    "* The first term describes the summation of the Hamiltonian of each cell\n",
    "* The second term describes the Hamiltonian from cell-cell interaction,\n",
    "$$f(s_i,s_j)=-\\frac12 s_i^TWs_j,$$\n",
    "with strength $\\gamma$ and randomly sampled matrix $W$.\n"
   ]
  },
  {
   "cell_type": "code",
   "execution_count": 3,
   "id": "49ea1de1",
   "metadata": {},
   "outputs": [],
   "source": [
    "# Cell arrangement: n columns of m cells\n",
    "n = 5\n",
    "m = 5\n",
    "N = n*m\n",
    "\n",
    "# Generating neighborhood matrix A\n",
    "A = np.zeros((N,N))\n",
    "k = 0\n",
    "for i in np.arange(1,n+1):\n",
    "    for j in np.arange(1,m+1):\n",
    "        B = np.zeros((n+2,m+2))\n",
    "        B[i-1:i+2,j-1:j+2] = 1\n",
    "        B[i,j] = 0\n",
    "        B_temp = B[1:n+1,1:m+1]\n",
    "        A[k,:] = B_temp.flatten()\n",
    "        k +=1\n",
    "\n",
    "# Ramdon inter-cellular communication matrix W\n",
    "np.random.seed(100)\n",
    "W = np.random.uniform(-1,1,(4,4))"
   ]
  },
  {
   "cell_type": "code",
   "execution_count": 4,
   "id": "17c5c47f",
   "metadata": {},
   "outputs": [
    {
     "name": "stderr",
     "output_type": "stream",
     "text": [
      "/var/folders/js/cp98kts10mq5xh9jhj49174h0000gp/T/ipykernel_98402/4177037945.py:20: RuntimeWarning: overflow encountered in exp\n",
      "  transition_prob = 1/(1 + np.exp(-2*beta*h[j]))\n"
     ]
    }
   ],
   "source": [
    "T = 100                          # Simulation Time Steps\n",
    "s_all = np.zeros((xn,N,T+1))     # Storing Transitions\n",
    "gamma=10                         # Cell-cell communication strength\n",
    "beta = 200                       # Noise strength\n",
    "\n",
    "# Initial tissue state\n",
    "for i in range(N):\n",
    "    r = np.random.randint(len(S.T))\n",
    "    s_all[:,i,0] = S.T[r]\n",
    "    #s_all[:,i,0] = [1,1,-1,1]\n",
    "\n",
    "# Stochastic update one gene at a time\n",
    "for k in range(1,T+1):\n",
    "    for i in range(N):\n",
    "        s = np.copy(s_all[:,i,k-1])\n",
    "        cell_trans = s\n",
    "        for j in range(4):\n",
    "            ind = A[i,:] != 0\n",
    "            h = J@s.T + gamma*np.sum(s@W@s_all[:,ind,k-1])\n",
    "            transition_prob = 1/(1 + np.exp(-2*beta*h[j]))\n",
    "            cell_trans[j] = 2*bernoulli.rvs(transition_prob)-1\n",
    "            s_all[j,i,k] = cell_trans[j]\n"
   ]
  },
  {
   "cell_type": "code",
   "execution_count": 5,
   "id": "91cef5dc",
   "metadata": {},
   "outputs": [
    {
     "data": {
      "application/vnd.jupyter.widget-view+json": {
       "model_id": "62900a1143c648aaa92921d27a86132f",
       "version_major": 2,
       "version_minor": 0
      },
      "text/plain": [
       "interactive(children=(IntSlider(value=0, description='t'), Output()), _dom_classes=('widget-interact',))"
      ]
     },
     "metadata": {},
     "output_type": "display_data"
    }
   ],
   "source": [
    "# conda install ipywidgets for movie \n",
    "import matplotlib.pyplot as plt\n",
    "from ipywidgets import interact, FloatSlider, IntSlider\n",
    "%matplotlib inline\n",
    "\n",
    "## Definition of the plot_tissue function, our \"callback function\".\n",
    "def plot_tissue(t):\n",
    "    cell_color = [1,2,4,8]@np.heaviside(s_all[:,:,t],0)\n",
    "    cell_color.resize((n, m))\n",
    "    plt.imshow(cell_color,vmin=0,vmax=15)\n",
    "    plt.colorbar(ticks=np.arange(0,2**4,4))\n",
    "    plt.show()\n",
    "\n",
    "## Generate our user interface.\n",
    "interact(plot_tissue, t=IntSlider(min=0, max=T, step=1, value=0));"
   ]
  },
  {
   "cell_type": "code",
   "execution_count": null,
   "id": "9da646da",
   "metadata": {},
   "outputs": [],
   "source": []
  }
 ],
 "metadata": {
  "kernelspec": {
   "display_name": "Python 3 (ipykernel)",
   "language": "python",
   "name": "python3"
  },
  "language_info": {
   "codemirror_mode": {
    "name": "ipython",
    "version": 3
   },
   "file_extension": ".py",
   "mimetype": "text/x-python",
   "name": "python",
   "nbconvert_exporter": "python",
   "pygments_lexer": "ipython3",
   "version": "3.11.3"
  }
 },
 "nbformat": 4,
 "nbformat_minor": 5
}
