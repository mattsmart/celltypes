{
 "cells": [
  {
   "cell_type": "code",
   "execution_count": 74,
   "outputs": [],
   "source": [
    "import matplotlib.pyplot as plt\n",
    "import matplotlib.patheffects as patheffects\n",
    "\n",
    "# conda install ipywidgets for movie \n",
    "from ipywidgets import interact, FloatSlider, IntSlider"
   ],
   "metadata": {
    "collapsed": false,
    "ExecuteTime": {
     "end_time": "2024-01-30T17:30:45.376528Z",
     "start_time": "2024-01-30T17:30:45.351185Z"
    }
   },
   "id": "57199ad78c100d21"
  },
  {
   "cell_type": "code",
   "execution_count": 75,
   "outputs": [],
   "source": [
    "%matplotlib inline"
   ],
   "metadata": {
    "collapsed": false,
    "ExecuteTime": {
     "end_time": "2024-01-30T17:30:45.407272Z",
     "start_time": "2024-01-30T17:30:45.356441Z"
    }
   },
   "id": "5498ab17f327e70"
  },
  {
   "cell_type": "markdown",
   "source": [
    "## 1. Background notes on \"Emergent properties of collective gene-expression patterns in multicellular systems\"\n",
    "Smart, M., & Zilman, A. (2023). [Paper Link](https://doi.org/10.1016/j.xcrp.2023.101247)\n",
    "### 1.1 Single-cell model\n",
    "Assume cell state is described by the activity of $N$ genes in the cell. Let $\\xi_1, \\ldots, \\xi_N$ denotes the desired cell types, with $\\xi_i\\in\\{1,-1\\}^N$. \n",
    "Let $\\hat{J}=\\xi(\\xi^{T}\\xi)^{-1}\\xi^T$ represent the gene-gene interactions. \n",
    "First, we want to show that $\\xi_i$ is the eigenvector of matrix $\\hat{J}$. That is to show that $$\\hat{J}\\xi_i=\\lambda_i\\xi_i.$$\n",
    "* Let $A=(\\xi^{T}\\xi)^{-1}\\xi^T$. Note that \n",
    "$$A\\xi=(\\xi^{T}\\xi)^{-1}\\xi^T\\xi=I.$$\n",
    "* This implies the following,\n",
    "\\begin{align*}\n",
    "\\hat{J}\\xi&=\\xi A \\xi\\\\\n",
    "&=\\xi I\\\\\n",
    "&=I\\xi.\n",
    "\\end{align*}\n",
    "Therefore, $\\xi_i$ are eigenvectors of matrix $\\hat{J}$ for the repeated eigenvalue $\\lambda=1$.\n",
    "\n",
    "\n",
    "* Next, to get the final gene-gene interaction matrix J, the authors set the diagonal value to zero. That is,\n",
    "$$\\hat J_0=\\hat J - \\text{diag}(\\hat J).$$"
   ],
   "metadata": {
    "collapsed": false
   },
   "id": "ef5d7ad91f9dfff7"
  },
  {
   "cell_type": "markdown",
   "source": [
    "# Focus: single-cell model - linear algebra and rules\n",
    "Stemming from discussion of these ingredients:  \n",
    "1) We have a desired $N \\times p$ pattern matrix $\\xi$ with $p$ linearly independent patterns in $[-1,1]^N$ stored as columns.\n",
    "2) One can store the patterns as global minima of the spin hamiltonian given by the quadratic form $H(s)=-\\frac{1}{2} s^T J s$ using Hopfield-like constructions for $J$.\n",
    "3) We have focused on the pseudo-inverse rule $\\hat J$ (see below) and the hollowed variant $\\hat J_0 = \\hat J - \\text{diag}(\\hat J)$.\n",
    "\n",
    "Based on intuition from low-dimensional (low $p$, low $N$) cases, we wonder if given an arbitrary $J_{ij}$ matrix one can infer or simply constrain the local minima directly via a rule on the elements of each row.\n",
    "\n",
    "Side notes: \n",
    "- Look for literature on perturbations to $\\hat J$ which simplify it (e.g. set elements below a threshold magnitude to zero) while preserving pattern storage.\n",
    "\n",
    "Lingering questions:\n",
    "- Assuming all entries of matrix $\\hat J$ are the same, hollowing transformation won't change the eigenspace of the matrix. But, is it guaranteed all diagonal entries are the same? In any case, note that the diagonal elements contribute a constant $\\sum_i J_{ii}$ to the energy function since, for any state $s$, we have $s_i^2=1 \\:\\: \\forall \\: i$.  "
   ],
   "metadata": {
    "collapsed": false
   },
   "id": "a97685ea362e3d41"
  },
  {
   "cell_type": "markdown",
   "source": [
    "# Look at examples for small systems (low N, low p)\n",
    "- we will check spin flip lemma vs numeric energy difference when flipping site k of an arbitrary configuration $s$\n",
    "- we will consider pathological cases as well where two or more patterns differ by a single flip"
   ],
   "metadata": {
    "collapsed": false
   },
   "id": "c7060143c2f27d8f"
  },
  {
   "cell_type": "code",
   "execution_count": 116,
   "outputs": [
    {
     "name": "stdout",
     "output_type": "stream",
     "text": [
      "example evec: [-1. -1. -1.  1.  1.  1. -1. -1. -1.]\n"
     ]
    }
   ],
   "source": [
    "import numpy as np\n",
    "import random\n",
    "from numpy.linalg import inv\n",
    "from scipy.stats import bernoulli\n",
    "from numpy import linalg as LA\n",
    "\n",
    "N = 9  # number of genes\n",
    "num_states = 2 ** N  # number of unique binary states for N genes\n",
    "assert N <= 12   # parts of code below assume 4 genes; TODO: generalize\n",
    "\n",
    "# Construct the gene-gene interaction matrix J\n",
    "#xi1 = np.array([-1,1,-1,1,1])  # nov.26\n",
    "#xi2 = np.array([-1,1,1,1,-1])  # nov.26\n",
    "\n",
    "xi1 = np.array([ 1, 1, 1, -1,-1,-1, -1,-1,-1])\n",
    "xi2 = np.array([-1,-1,-1,  1, 1, 1, -1,-1,-1])\n",
    "xi3 = np.array([-1,-1,-1, -1,-1,-1,  1, 1, 1])\n",
    "\n",
    "assert len(xi1) == N\n",
    "xi = np.stack((xi1, xi2), axis=-1)\n",
    "Jhat = xi @ inv(xi.T @ xi) @ xi.T\n",
    "Jhat_hollow = Jhat - np.diag(np.diag(Jhat))\n",
    "print('example evec:', Jhat @ xi2)"
   ],
   "metadata": {
    "collapsed": false,
    "ExecuteTime": {
     "end_time": "2024-01-30T17:45:16.592314Z",
     "start_time": "2024-01-30T17:45:16.580707Z"
    }
   },
   "id": "231f6910ed2042d"
  },
  {
   "cell_type": "markdown",
   "id": "1e1bd496",
   "metadata": {},
   "source": [
    "### Single Cell Hamiltonian\n",
    "$\\mathcal{H}(s)= -\\frac12(s^TJs) - h^Ts$"
   ]
  },
  {
   "cell_type": "code",
   "execution_count": 117,
   "id": "430d867f",
   "metadata": {
    "ExecuteTime": {
     "end_time": "2024-01-30T17:45:17.178470Z",
     "start_time": "2024-01-30T17:45:17.115122Z"
    }
   },
   "outputs": [
    {
     "name": "stdout",
     "output_type": "stream",
     "text": [
      "The energy for all cell states are\n",
      " [-0.5   0.83  0.83  0.83  0.83  0.83  0.83 -0.5  -0.83  0.5   0.5   0.5\n",
      "  0.5   0.5   0.5  -0.83 -0.83  0.5   0.5   0.5   0.5   0.5   0.5  -0.83\n",
      " -1.83 -0.5  -0.5  -0.5  -0.5  -0.5  -0.5  -1.83 -0.83  0.5   0.5   0.5\n",
      "  0.5   0.5   0.5  -0.83 -1.83 -0.5  -0.5  -0.5  -0.5  -0.5  -0.5  -1.83\n",
      " -1.83 -0.5  -0.5  -0.5  -0.5  -0.5  -0.5  -1.83 -3.5  -2.17 -2.17 -2.17\n",
      " -2.17 -2.17 -2.17 -3.5  -0.83  0.5   0.5   0.5   0.5   0.5   0.5  -0.83\n",
      " -0.5   0.83  0.83  0.83  0.83  0.83  0.83 -0.5  -0.5   0.83  0.83  0.83\n",
      "  0.83  0.83  0.83 -0.5  -0.83  0.5   0.5   0.5   0.5   0.5   0.5  -0.83\n",
      " -0.5   0.83  0.83  0.83  0.83  0.83  0.83 -0.5  -0.83  0.5   0.5   0.5\n",
      "  0.5   0.5   0.5  -0.83 -0.83  0.5   0.5   0.5   0.5   0.5   0.5  -0.83\n",
      " -1.83 -0.5  -0.5  -0.5  -0.5  -0.5  -0.5  -1.83 -0.83  0.5   0.5   0.5\n",
      "  0.5   0.5   0.5  -0.83 -0.5   0.83  0.83  0.83  0.83  0.83  0.83 -0.5\n",
      " -0.5   0.83  0.83  0.83  0.83  0.83  0.83 -0.5  -0.83  0.5   0.5   0.5\n",
      "  0.5   0.5   0.5  -0.83 -0.5   0.83  0.83  0.83  0.83  0.83  0.83 -0.5\n",
      " -0.83  0.5   0.5   0.5   0.5   0.5   0.5  -0.83 -0.83  0.5   0.5   0.5\n",
      "  0.5   0.5   0.5  -0.83 -1.83 -0.5  -0.5  -0.5  -0.5  -0.5  -0.5  -1.83\n",
      " -1.83 -0.5  -0.5  -0.5  -0.5  -0.5  -0.5  -1.83 -0.83  0.5   0.5   0.5\n",
      "  0.5   0.5   0.5  -0.83 -0.83  0.5   0.5   0.5   0.5   0.5   0.5  -0.83\n",
      " -0.5   0.83  0.83  0.83  0.83  0.83  0.83 -0.5  -0.83  0.5   0.5   0.5\n",
      "  0.5   0.5   0.5  -0.83 -0.5   0.83  0.83  0.83  0.83  0.83  0.83 -0.5\n",
      " -0.5   0.83  0.83  0.83  0.83  0.83  0.83 -0.5  -0.83  0.5   0.5   0.5\n",
      "  0.5   0.5   0.5  -0.83 -0.83  0.5   0.5   0.5   0.5   0.5   0.5  -0.83\n",
      " -0.5   0.83  0.83  0.83  0.83  0.83  0.83 -0.5  -0.5   0.83  0.83  0.83\n",
      "  0.83  0.83  0.83 -0.5  -0.83  0.5   0.5   0.5   0.5   0.5   0.5  -0.83\n",
      " -0.5   0.83  0.83  0.83  0.83  0.83  0.83 -0.5  -0.83  0.5   0.5   0.5\n",
      "  0.5   0.5   0.5  -0.83 -0.83  0.5   0.5   0.5   0.5   0.5   0.5  -0.83\n",
      " -1.83 -0.5  -0.5  -0.5  -0.5  -0.5  -0.5  -1.83 -1.83 -0.5  -0.5  -0.5\n",
      " -0.5  -0.5  -0.5  -1.83 -0.83  0.5   0.5   0.5   0.5   0.5   0.5  -0.83\n",
      " -0.83  0.5   0.5   0.5   0.5   0.5   0.5  -0.83 -0.5   0.83  0.83  0.83\n",
      "  0.83  0.83  0.83 -0.5  -0.83  0.5   0.5   0.5   0.5   0.5   0.5  -0.83\n",
      " -0.5   0.83  0.83  0.83  0.83  0.83  0.83 -0.5  -0.5   0.83  0.83  0.83\n",
      "  0.83  0.83  0.83 -0.5  -0.83  0.5   0.5   0.5   0.5   0.5   0.5  -0.83\n",
      " -1.83 -0.5  -0.5  -0.5  -0.5  -0.5  -0.5  -1.83 -0.83  0.5   0.5   0.5\n",
      "  0.5   0.5   0.5  -0.83 -0.83  0.5   0.5   0.5   0.5   0.5   0.5  -0.83\n",
      " -0.5   0.83  0.83  0.83  0.83  0.83  0.83 -0.5  -0.83  0.5   0.5   0.5\n",
      "  0.5   0.5   0.5  -0.83 -0.5   0.83  0.83  0.83  0.83  0.83  0.83 -0.5\n",
      " -0.5   0.83  0.83  0.83  0.83  0.83  0.83 -0.5  -0.83  0.5   0.5   0.5\n",
      "  0.5   0.5   0.5  -0.83 -3.5  -2.17 -2.17 -2.17 -2.17 -2.17 -2.17 -3.5\n",
      " -1.83 -0.5  -0.5  -0.5  -0.5  -0.5  -0.5  -1.83 -1.83 -0.5  -0.5  -0.5\n",
      " -0.5  -0.5  -0.5  -1.83 -0.83  0.5   0.5   0.5   0.5   0.5   0.5  -0.83\n",
      " -1.83 -0.5  -0.5  -0.5  -0.5  -0.5  -0.5  -1.83 -0.83  0.5   0.5   0.5\n",
      "  0.5   0.5   0.5  -0.83 -0.83  0.5   0.5   0.5   0.5   0.5   0.5  -0.83\n",
      " -0.5   0.83  0.83  0.83  0.83  0.83  0.83 -0.5 ]\n",
      "The lowest energy states in a single cell are the column vectors of matrix:\n",
      " [[-1 -1  1  1]\n",
      " [-1 -1  1  1]\n",
      " [-1 -1  1  1]\n",
      " [ 1  1 -1 -1]\n",
      " [ 1  1 -1 -1]\n",
      " [ 1  1 -1 -1]\n",
      " [-1  1 -1  1]\n",
      " [-1  1 -1  1]\n",
      " [-1  1 -1  1]]\n",
      "The global minimum are cell states with ID: [ 56  63 448 455]\n",
      "The global maximum are cell states with ID: [  1   2   3   4   5   6  73  74  75  76  77  78  81  82  83  84  85  86\n",
      "  97  98  99 100 101 102 137 138 139 140 141 142 145 146 147 148 149 150\n",
      " 161 162 163 164 165 166 217 218 219 220 221 222 233 234 235 236 237 238\n",
      " 241 242 243 244 245 246 265 266 267 268 269 270 273 274 275 276 277 278\n",
      " 289 290 291 292 293 294 345 346 347 348 349 350 361 362 363 364 365 366\n",
      " 369 370 371 372 373 374 409 410 411 412 413 414 425 426 427 428 429 430\n",
      " 433 434 435 436 437 438 505 506 507 508 509 510]\n",
      "The local minimum are cell states with ID: [ 56  63 448 455]\n",
      "The local maximum are cell states with ID: [  1   2   3   4   5   6  73  74  75  76  77  78  81  82  83  84  85  86\n",
      "  97  98  99 100 101 102 137 138 139 140 141 142 145 146 147 148 149 150\n",
      " 161 162 163 164 165 166 217 218 219 220 221 222 233 234 235 236 237 238\n",
      " 241 242 243 244 245 246 265 266 267 268 269 270 273 274 275 276 277 278\n",
      " 289 290 291 292 293 294 345 346 347 348 349 350 361 362 363 364 365 366\n",
      " 369 370 371 372 373 374 409 410 411 412 413 414 425 426 427 428 429 430\n",
      " 433 434 435 436 437 438 505 506 507 508 509 510]\n"
     ]
    }
   ],
   "source": [
    "# Generate all possible states of the cell and verify the lowest energy state in a single cell\n",
    "xn = xi1.shape[0]\n",
    "comb = np.tile([-1,1], (xn, 1)).tolist()\n",
    "S = np.stack(np.meshgrid(*comb), -1).reshape(-1, xn).T\n",
    "H = np.diag(-S.T @ Jhat_hollow @ S/2)\n",
    "ind_xi = np.where(abs(H - H.min())<1e-6)[0]\n",
    "print(\"The energy for all cell states are\\n\", np.round(H,2))\n",
    "print(\"The lowest energy states in a single cell are the column vectors of matrix:\\n\", S[:, ind_xi])\n",
    "print(\"The global minimum are cell states with ID:\", ind_xi)\n",
    "\n",
    "ind_glob_max = np.where(abs(H - H.max())<1e-6)[0]\n",
    "print(\"The global maximum are cell states with ID:\", ind_glob_max)\n",
    "\n",
    "ind_neighb = [sum(abs(np.tile(S[:,i], (num_states, 1)).T - S)) == 2 for i in range(num_states)]\n",
    "local_min = np.array([sum((H[i]-1e-6)<=H[ind_neighb[i]]) for i in range(num_states)])\n",
    "print(\"The local minimum are cell states with ID:\", np.where(local_min==N)[0])\n",
    "\n",
    "local_max = np.array([sum((H[i]+1e-6)>=H[ind_neighb[i]]) for i in range(num_states)])\n",
    "print(\"The local maximum are cell states with ID:\", np.where(local_max==N)[0])"
   ]
  },
  {
   "cell_type": "code",
   "execution_count": 115,
   "id": "cd4f681d-8f94-40e3-a3e4-b74e2cf61e93",
   "metadata": {
    "ExecuteTime": {
     "end_time": "2024-01-30T17:44:40.256586Z",
     "start_time": "2024-01-30T17:44:39.911402Z"
    }
   },
   "outputs": [
    {
     "data": {
      "text/plain": "Text(0, 0.5, '$H_i$')"
     },
     "execution_count": 115,
     "metadata": {},
     "output_type": "execute_result"
    },
    {
     "data": {
      "text/plain": "<Figure size 640x480 with 1 Axes>",
      "image/png": "[encoded data removed]"
     },
     "metadata": {},
     "output_type": "display_data"
    }
   ],
   "source": [
    "plt.bar(np.arange(num_states), height=H)\n",
    "plt.plot(H, 'ok')\n",
    "plt.title('Visualization of single-cell energy landscape (neighbors misleading)')\n",
    "plt.xlabel(r'state index $i$')\n",
    "plt.ylabel(r'$H_i$')"
   ]
  },
  {
   "cell_type": "markdown",
   "source": [
    "## Tool: Given a state, flip all $k=1,...,N$ spins and compare (A) numeric energy change vs (B) lemma energy change $\\Delta H = 2 s_k (h_k - J_{kk})$ for $h_k = \\sum_j J_{ij} s_j$ "
   ],
   "metadata": {
    "collapsed": false
   },
   "id": "8c06d441610b47e0"
  },
  {
   "cell_type": "code",
   "execution_count": 80,
   "outputs": [],
   "source": [
    "def hamiltonian_quadform(J, s_vec):\n",
    "    return 0.5 * s_vec.T @ J @ s_vec\n",
    "\n",
    "def compare_spinflip_numeric_vs_lemma(J, s_vec):\n",
    "    N = len(s_vec)\n",
    "    h_vec = np.dot(J, s_vec)\n",
    "    \n",
    "    energy_0 = hamiltonian_quadform(J, s_vec)\n",
    "    \n",
    "    energydiff_numeric = np.zeros(N)\n",
    "    energydiff_lemma = 2 * s_vec * (h_vec - np.diag(J))  # note the - np.diag(J) generalizes the lemma to the case that J is not hollow\n",
    "    \n",
    "    for k in range(N):\n",
    "        s_vec_perturb = np.copy(s_vec)\n",
    "        s_vec_perturb[k] = -1 * s_vec[k]\n",
    "        energydiff_numeric[k] = energy_0 - hamiltonian_quadform(J, s_vec_perturb)\n",
    "        \n",
    "    return energydiff_numeric, energydiff_lemma"
   ],
   "metadata": {
    "collapsed": false,
    "ExecuteTime": {
     "end_time": "2024-01-30T17:30:45.809080Z",
     "start_time": "2024-01-30T17:30:45.804259Z"
    }
   },
   "id": "7b9b77fef0f1d94b"
  },
  {
   "cell_type": "code",
   "execution_count": 112,
   "outputs": [
    {
     "name": "stdout",
     "output_type": "stream",
     "text": [
      "Compare energy diff for flip each of k spins: J = proj rule, s = [1. 1. 1. 1. 1. 1. 1. 1. 1.]\n",
      "\tsite 0, -0.333 vs -0.333\n",
      "\tsite 1, -0.333 vs -0.333\n",
      "\tsite 2, -0.333 vs -0.333\n",
      "\tsite 3, -0.333 vs -0.333\n",
      "\tsite 4, -0.333 vs -0.333\n",
      "\tsite 5, -0.333 vs -0.333\n",
      "\tsite 6, 1.333 vs 1.333\n",
      "\tsite 7, 1.333 vs 1.333\n",
      "\tsite 8, 1.333 vs 1.333\n",
      "Compare energy diff for flip each of k spins: J = hollowed proj rule, s = [1. 1. 1. 1. 1. 1. 1. 1. 1.]\n",
      "\tsite 0, -0.333 vs -0.333\n",
      "\tsite 1, -0.333 vs -0.333\n",
      "\tsite 2, -0.333 vs -0.333\n",
      "\tsite 3, -0.333 vs -0.333\n",
      "\tsite 4, -0.333 vs -0.333\n",
      "\tsite 5, -0.333 vs -0.333\n",
      "\tsite 6, 1.333 vs 1.333\n",
      "\tsite 7, 1.333 vs 1.333\n",
      "\tsite 8, 1.333 vs 1.333\n"
     ]
    },
    {
     "data": {
      "text/plain": "<Figure size 640x480 with 0 Axes>"
     },
     "metadata": {},
     "output_type": "display_data"
    },
    {
     "data": {
      "text/plain": "<Figure size 640x480 with 2 Axes>",
      "image/png": "[encoded data removed]"
     },
     "metadata": {},
     "output_type": "display_data"
    }
   ],
   "source": [
    "s_choice = np.ones(N)\n",
    "\n",
    "print('Compare energy diff for flip each of k spins: J = proj rule, s =', s_choice)\n",
    "energydiff_num, energydiff_lemma = compare_spinflip_numeric_vs_lemma(Jhat, s_choice)\n",
    "for i in range(N):\n",
    "    print('\\tsite %d, %.3f vs %.3f' % (i, energydiff_num[i], energydiff_lemma[i]))\n",
    "    \n",
    "print('Compare energy diff for flip each of k spins: J = hollowed proj rule, s =', s_choice)\n",
    "energydiff_0_num, energydiff_0_lemma = compare_spinflip_numeric_vs_lemma(Jhat_hollow, s_choice)\n",
    "for i in range(N):\n",
    "    print('\\tsite %d, %.3f vs %.3f' % (i, energydiff_0_num[i], energydiff_0_lemma[i]))\n",
    "\n",
    "alpha = 0.5\n",
    "plt.clf()\n",
    "_, axarr = plt.subplots(1,2, squeeze=False, sharey=True)\n",
    "axarr[0,0].plot(np.arange(N), energydiff_num, linewidth=0, marker='s', markersize=7, label='numeric')\n",
    "axarr[0,0].plot(np.arange(N), energydiff_lemma, '--', color='k', alpha=0.5, label='lemma')\n",
    "axarr[0,1].plot(np.arange(N), energydiff_0_num, linewidth=0, marker='o', markersize=7)\n",
    "axarr[0,1].plot(np.arange(N), energydiff_0_lemma, '--', color='k', alpha=0.5)\n",
    "\n",
    "axarr[0,0].legend()\n",
    "axarr[0,0].set_title(r'$J$ = proj rule')\n",
    "axarr[0,1].set_title(r'$J$ = proj rule (hollowed)')\n",
    "axarr[0,0].set_xlabel(r'index $k$ of flipped site')\n",
    "axarr[0,1].set_xlabel(r'index $k$ of flipped site')\n",
    "axarr[0,0].set_ylabel(r\"$H(s) - H(s')$\")\n",
    "plt.show()"
   ],
   "metadata": {
    "collapsed": false,
    "ExecuteTime": {
     "end_time": "2024-01-30T17:39:04.792351Z",
     "start_time": "2024-01-30T17:39:04.691621Z"
    }
   },
   "id": "74220907d215483b"
  },
  {
   "cell_type": "markdown",
   "source": [
    "## Toy model from overleaf Jan 2023 "
   ],
   "metadata": {
    "collapsed": false
   },
   "id": "de8d275b21f065bc"
  },
  {
   "cell_type": "code",
   "execution_count": 119,
   "outputs": [
    {
     "name": "stdout",
     "output_type": "stream",
     "text": [
      "example evec: [-1. -1.  1.]\n"
     ]
    }
   ],
   "source": [
    "N = 3  # number of genes\n",
    "num_states = 2 ** N  # number of unique binary states for N genes\n",
    "assert N <= 12   # parts of code below assume 4 genes; TODO: generalize\n",
    "\n",
    "# Construct the gene-gene interaction matrix J\n",
    "xi1 = np.array([ 1,-1, 1])\n",
    "xi2 = np.array([-1,-1, 1])\n",
    "\n",
    "assert len(xi1) == N\n",
    "xi = np.stack((xi1, xi2), axis=-1)\n",
    "Jhat = xi @ inv(xi.T @ xi) @ xi.T\n",
    "Jhat_hollow = Jhat - np.diag(np.diag(Jhat))\n",
    "print('example evec:', Jhat @ xi2)"
   ],
   "metadata": {
    "collapsed": false,
    "ExecuteTime": {
     "end_time": "2024-01-30T17:48:28.066045Z",
     "start_time": "2024-01-30T17:48:28.061980Z"
    }
   },
   "id": "34248e4e0562921"
  },
  {
   "cell_type": "code",
   "execution_count": 120,
   "outputs": [
    {
     "data": {
      "text/plain": "array([[ 1. ,  0. ,  0. ],\n       [ 0. ,  0.5, -0.5],\n       [ 0. , -0.5,  0.5]])"
     },
     "execution_count": 120,
     "metadata": {},
     "output_type": "execute_result"
    }
   ],
   "source": [
    "Jhat"
   ],
   "metadata": {
    "collapsed": false,
    "ExecuteTime": {
     "end_time": "2024-01-30T17:48:39.371190Z",
     "start_time": "2024-01-30T17:48:39.357613Z"
    }
   },
   "id": "f40d524fbb1e0505"
  },
  {
   "cell_type": "code",
   "execution_count": null,
   "outputs": [],
   "source": [],
   "metadata": {
    "collapsed": false
   },
   "id": "ba46d8a38dca660e"
  }
 ],
 "metadata": {
  "kernelspec": {
   "display_name": "Python 3 (ipykernel)",
   "language": "python",
   "name": "python3"
  },
  "language_info": {
   "codemirror_mode": {
    "name": "ipython",
    "version": 3
   },
   "file_extension": ".py",
   "mimetype": "text/x-python",
   "name": "python",
   "nbconvert_exporter": "python",
   "pygments_lexer": "ipython3",
   "version": "3.11.0"
  }
 },
 "nbformat": 4,
 "nbformat_minor": 5
}
