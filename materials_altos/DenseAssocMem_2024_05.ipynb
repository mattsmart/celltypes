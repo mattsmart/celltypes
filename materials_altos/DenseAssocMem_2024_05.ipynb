{
 "cells": [
  {
   "cell_type": "code",
   "execution_count": null,
   "id": "initial_id",
   "metadata": {
    "collapsed": true
   },
   "outputs": [],
   "source": [
    "import numpy as np\n",
    "import pandas as pd\n",
    "import matplotlib.pyplot as plt\n",
    "import matplotlib.cm as cm\n",
    "from scipy.special import softmax\n",
    "from scipy.spatial.distance import euclidean\n",
    "\n",
    "# MS: TODO comment out for now\n",
    "#import biomart\n",
    "\n",
    "import umap\n",
    "import pickle\n",
    "import scipy.spatial as sp\n",
    "import seaborn as sns\n",
    "import itertools\n",
    "\n",
    "from sklearn.decomposition import PCA\n",
    "from sklearn.cluster import AgglomerativeClustering\n",
    "from sklearn.datasets import load_iris\n",
    "\n",
    "from scipy.spatial.distance import pdist,squareform\n",
    "from scipy.cluster import hierarchy\n",
    "\n",
    "import glob\n",
    "import torch"
   ]
  },
  {
   "cell_type": "markdown",
   "source": [
    "# Goal = Attempt to recreate Fig. 2 of biorxiv manuscript"
   ],
   "metadata": {
    "collapsed": false
   },
   "id": "daadfaca98aa8f52"
  },
  {
   "cell_type": "markdown",
   "source": [
    "Utility functions"
   ],
   "metadata": {
    "collapsed": false
   },
   "id": "3138b7dd674b6085"
  },
  {
   "cell_type": "code",
   "execution_count": null,
   "outputs": [],
   "source": [
    "\"\"\" code from Karin2024\n",
    "def run(self, x0, w, beta, dt=0.1, tmax=10):\n",
    "    x=x0.copy()\n",
    "    hist = []\n",
    "    for t in np.arange(0,tmax,dt):\n",
    "        hist.append(x.copy())\n",
    "        x+=dt*(np.matmul(self.Q.T,softmax(w+beta*np.matmul(self.XI,x)))-x)\n",
    "        \n",
    "    hist = np.array(hist)\n",
    "    return x,hist\n",
    "\"\"\"\n",
    "\n",
    "def run_traj(f_of_xtp, x0, params, t0=0.0, tmax=10.0, dt_max=0.1):\n",
    "    # TODO have local function for x_t+1 = foo(x_t) which is autograd-able\n",
    "    \n",
    "    # if euler\n",
    "    times_traj = np.arange(t0, tmax + dt_max, dt_max)    # suze T\n",
    "    x_traj = np.zeros((len(times_traj), x0.shape[0]))    # size T x N\n",
    "    \n",
    "    x_traj[0, :] = x0\n",
    "    for idx, tval in enumerate(times_traj[:-1]): \n",
    "        current_vel = f_of_xtp(x_traj[idx, :], tval, params) \n",
    "        x_traj[idx+1, :] = x_traj[idx, :] + dt_max * current_vel\n",
    "        \n",
    "    # if scipy integrator  maybe writeup runge kutta\n",
    "    # TODO implement radau call\n",
    "    \n",
    "    return x_traj, times_traj"
   ],
   "metadata": {
    "collapsed": false
   },
   "id": "823e15e8b4afc2b"
  },
  {
   "cell_type": "markdown",
   "source": [
    "## Silly example testing the generalic trajectory function: \n",
    "## - launch particle, only force is gravity $d v_y / dt = -g$"
   ],
   "metadata": {
    "collapsed": false
   },
   "id": "6e7e0b36fa73a8a6"
  },
  {
   "cell_type": "code",
   "execution_count": null,
   "outputs": [],
   "source": [
    "# Note: keep signature of function fixed for now as x, t, p - state [dim N], times [scalar], params [dim p]\n",
    "# TODO jit all func, or torch for eventual Autodiff\n",
    "\n",
    "def dxdt_particle(x, t, params):\n",
    "    \"\"\"\n",
    "    # Throw a ball in R^2\n",
    "    # Three params: vx0, vy0, gravity\n",
    "    \"\"\"\n",
    "    vx0, vy0, g = params\n",
    "    dxdt = vx0\n",
    "    dydt = vy0 - g*t\n",
    "    return np.array([dxdt, dydt])\n",
    "\n",
    "# sample call\n",
    "dxdt_particle([10,10], 0, [1, 1, 9.8])"
   ],
   "metadata": {
    "collapsed": false
   },
   "id": "e32085715a46f202"
  },
  {
   "cell_type": "code",
   "execution_count": null,
   "outputs": [],
   "source": [
    "x0 = np.array([10,100])\n",
    "params = [1, 10, 9.8]\n",
    "x_traj, times_traj = run_traj(dxdt_particle, x0, params, t0=0.0, tmax=2, dt_max=0.1)"
   ],
   "metadata": {
    "collapsed": false
   },
   "id": "d0fffc9174af6e8"
  },
  {
   "cell_type": "code",
   "execution_count": null,
   "outputs": [],
   "source": [
    "fig, axarr = plt.subplots(2, 1, sharex=True)\n",
    "pltstyle = dict(linestyle='--', marker='o')\n",
    "axarr[0].plot(times_traj, x_traj[:,0], **pltstyle); axarr[0].set_title('x vs t') \n",
    "axarr[1].plot(times_traj, x_traj[:,1], **pltstyle); axarr[1].set_title('y vs t')\n",
    "plt.suptitle('Simple example: launch particle with gravity - euler method')\n",
    "plt.show(); plt.close('all')"
   ],
   "metadata": {
    "collapsed": false
   },
   "id": "88a7e728bd3ed3ab"
  },
  {
   "cell_type": "markdown",
   "source": [
    "# Classic (quadratic) hopfield network with continuous variables $x \\in \\mathbb{R}^N$\n",
    "\n",
    "My suggested form\n",
    "### $\\frac{dx}{dt} = -x + \\textrm{tanh}(\\beta [Jx + b])$\n",
    "\n",
    "where \n",
    "\n",
    "- $\\beta=1/T$ is inverse temperature -- at zero temperature limit its digital (sign function)\n",
    "- $J=\\xi \\xi^T$ is defined by the $N \\times K$ matrix of cell types, with cell type $\\mu=1, ..., K$ indexing the cell types represented by columns of $\\xi$ \n",
    "- $b \\in \\mathbb{R}^N$ is an $N$ dimensional applied field on specific genes; we will reserve $w \\in \\mathbb{R}^K$ to denote an analogous forcing applied in the direction of the $K$ encoded cell types\n",
    "\n",
    "The form in Hopfield, 1984 (PNAS):\n",
    "### $\\frac{dx}{dt} = -x + J \\:\\textrm{tanh}(\\beta x) + b$\n",
    "\n",
    "#### Remark 1: on representations\n",
    "The main dynamics stated at the top are not unique. The nonlinearity can be applied before or after the linearity. Here is a general recipe for a recurrent dynamics in $\\mathbb^N$ combining an affine transform and a static elementwise nonlinearity $\\sigma(z)$:\n",
    "- Representation 1:  $dx/dt = -x + \\sigma(Ax + b)$\n",
    "- Representation 2:  $dy/dt = -y + A\\sigma(y) + b$\n",
    "\n",
    "I tend to prefer Option 1, but they are sometimes treated interchangeably in the literature. Consider specifically the linear change of variables $y=Ax+b$. When $A$ is invertible, the two representations are equivalent. Otherwise, the situation is more subtle: \n",
    "- Going from Rep (1) to Rep (2) works even when $A$ is not full rank. \n",
    "- However, if $A$ is not full rank, starting from Rep (2) one comes to $A\\: dx/dt = A (-x + \\sigma(Ax+b))$. Consider the thin SVD of $A$, corresponding to the first sum in $A= \\sum_{i=1}^p \\sigma_i u_i v_i^T + \\sum_{i=p+1}^N 0 \\cdot u_i v_i^T$, accounting for the $p<N$ non-zero singular values ($p = N$ would imply invertible). In matrix form $A=UDV^T$ with $U, V \\in \\mathbb{R}^{N \\times p}$. Left multiplying by the pseudoinverse for $U$ and inverse for $D$ gives the reduced dynamics for $m=V^T x$ in $p<N$ dimensions:  $dm/dt = -m + V^T \\:\\sigma(U D m + b)$ -- is it interesting that this $p$-dim dynamics is equivalent to the $N>p$ dim dynamics? \n",
    "\n",
    "I also tend to use the nonlinearity $\\sigma(z) = \\textrm{tanh}(\\beta z)$. This choice is inspired by the mean-spin flip update rule of the binary Ising model with (stochastic) Glauber dynamics. Combined with Option 1, it has a nice interpretation that any fixed point lies in or on the $\\pm 1$ hypercube ($\\equiv \\Omega_N$); more generally, note that $\\Omega_N$ is positively invariant for this choice of $\\sigma(z)$. To \"think outside the box\", one could consider alternative nonlinearities like $\\sigma(z)=\\textrm{ReLU}(z)$. \n",
    "\n",
    "#### Remark 2: Alternative RBM-like two-layer form see [Krotov and Hopfield, 2021, ICLR] (TODO q: when is it equivalent?) :\n",
    "- $\\tau_x\\: \\frac{dx}{dt} = -x + W_x \\,f(m) + b$\n",
    "- $\\tau_m\\: \\frac{dm}{dt} = -m + W_m \\,g(x) + w$\n",
    "\n",
    "Notation: \n",
    "\n",
    "- Let $W_x \\in \\mathbb{R}^{N \\times K}$ be a matrix of connections from \"hidden\" units $m \\in \\mathbb{R}^K$ to \"visible\" units $x \\in \\mathbb{R}^N$. Let $W_m \\in \\mathbb{R}^{K \\times N}$ denote reverse connections from the visible to the hidden units. The authors assume symmetric connections between the layers, i.e. $W_x=\\xi$ and $W_m=\\xi^T$. \n",
    "- $f:\\mathbb{R}^K \\rightarrow \\mathbb{R}^N$, $g:\\mathbb{R}^N \\rightarrow \\mathbb{R}^K$ are potentially nonlinear functions of a given neuron (e.g. $f_{\\mu} \\equiv \\textrm{tanh}(m_{\\mu})$  or the entire layer (e.g. in the case of $\\textrm{softmax}$). \n",
    "\n",
    "##### Comment on relative timescales for the two-layer dynamics\n",
    "If one timescale ($\\tau_x, \\tau_m$) is much faster (i.e. small $\\tau$), then the associated dynamics can be eliminated (treated as being at \"quasi-steady-state\"). In that case, the coupled dynamics can be viewed as a \"singular expansion\" of the uncoupled form. \n",
    "\n",
    "E.g., if $\\tau_m \\ll \\tau_x$, then $m(t) \\approx \\xi^T g(x) + w$ at all times (since any deviation will rapidly be corrected, relatively speaking).\n",
    "\n",
    "As a concrete example, the following choice of $f$, $g$ maps to a classic hebbian Hopfield network (TODO check this vs. form above; if $b$ is outside the $\\textrm{tanh}$ then state can leave the $\\pm 1$ hypercube): \n",
    "- $\\tau_x\\: \\frac{dx}{dt} = -x + \\xi \\:\\textrm{tanh}(\\beta m) + b$\n",
    "- $\\tau_m\\: \\frac{dm}{dt} = -m + \\xi^T x + w$\n",
    " \n",
    "Assuming  $\\tau_m \\ll \\tau_x$ and making the QSS substitution gives the condensed dynamics $\\tau_x\\: dx/dt = -x + \\xi \\:\\textrm{tanh} \\left[ \\beta (\\xi^T x + w) \\right] + b$.\n",
    "\n",
    "#### Additional notes from recent [Krotov and Hopfield, 2021, ICLR]\n",
    "TODO...\n",
    "  "
   ],
   "metadata": {
    "collapsed": false
   },
   "id": "6fe062da3496c120"
  },
  {
   "cell_type": "code",
   "execution_count": null,
   "outputs": [],
   "source": [
    "def build_xi_rolling_correlated(N, p=3):\n",
    "    \"\"\"\n",
    "    N: number of visible units\n",
    "    p: number of patterns (column vectors)\n",
    "    \"\"\"\n",
    "    assert N % p == 0\n",
    "    a = -1 * np.ones(N)\n",
    "    a[0:p] = 1\n",
    "    \n",
    "    xi = np.zeros((N, p))\n",
    "    for idx in range(p):\n",
    "        xi[:, idx] = np.roll(a, p * idx, axis=None)\n",
    "    return xi\n",
    "\n",
    "def build_xi_random_binary(N, p, seed=0):\n",
    "    \"\"\"\n",
    "    N: number of visible units\n",
    "    p: number of patterns (column vectors)\n",
    "    \"\"\"\n",
    "    np.random.seed(seed)\n",
    "    xi = 2*np.random.randint(2, size=(N,p)) - 1\n",
    "    return xi"
   ],
   "metadata": {
    "collapsed": false
   },
   "id": "7c3ffa0039e23f4"
  },
  {
   "cell_type": "code",
   "execution_count": null,
   "outputs": [],
   "source": [
    "N_rand, K_rand = 5000, 4\n",
    "xi_rand = build_xi_random_binary(N_rand, K_rand)\n",
    "print('Corr. matrix for K=%d random patterns in N=%d dims' % (K_rand, N_rand))\n",
    "print(xi_rand.T @ xi_rand / N_rand)\n",
    "\n",
    "print('\\nLow dim correlated example (N=%d, K=%d)' % (K_rand, N_rand))\n",
    "N_simple, K_simple = 9, 3\n",
    "xi_9_3_corr = build_xi_rolling_correlated(N_simple, p=K_simple)\n",
    "#print(xi_9_3_corr)\n",
    "print(xi_9_3_corr.T @ xi_9_3_corr / xi_9_3_corr.shape[0])"
   ],
   "metadata": {
    "collapsed": false
   },
   "id": "6b34f27b9a2872fb"
  },
  {
   "cell_type": "code",
   "execution_count": null,
   "outputs": [],
   "source": [
    "# Note: keep signature of function fixed for now as x, t, p - state [dim N], times [scalar], params [dim p]\n",
    "# TODO jit all func, or torch for eventual Autodiff\n",
    "\n",
    "#@torch.jit\n",
    "def dxdt_HN_quadratic_hebb_A(x, t, params):\n",
    "    \"\"\"\n",
    "    - My preferred form: arises from mean spin flip rule for stochastic discrete updates\n",
    "    - This form works roughly as expected\n",
    "    \"\"\"\n",
    "    beta, xi = params\n",
    "    arg_of_sigma = xi @ xi.T @ x\n",
    "    dxdt = -x + np.tanh(beta * arg_of_sigma)\n",
    "    return dxdt\n",
    "\n",
    "def dxdt_HN_quadratic_hebb_B(x, t, params):\n",
    "    \"\"\"\n",
    "    Issues with this form, which arises from RBM-type interpretation \n",
    "    - TODO check implementation and issues...\n",
    "    \"\"\"\n",
    "    beta, xi = params\n",
    "    normalization = 1 / xi.shape[0]\n",
    "    arg_of_sigma = xi.T @ x\n",
    "    dxdt = -x + normalization * xi @ np.tanh(beta * arg_of_sigma)\n",
    "    return dxdt\n",
    "\n",
    "def dxdt_HN_quadratic_hebb_C(x, t, params):\n",
    "    \"\"\"\n",
    "    This form is closer to Hopfield 1984\n",
    "    - See spurious minima when point in vicinity of pattern 0 is given small linear push towards other other patterns\n",
    "    \"\"\"\n",
    "    beta, xi = params\n",
    "    arg_of_sigma = x\n",
    "    normalization = 1 / xi.shape[0]\n",
    "    dxdt = -x + normalization * xi @ xi.T @ np.tanh(beta * arg_of_sigma)\n",
    "    return dxdt\n",
    "\n",
    "# sample call\n",
    "local_beta = 10.0\n",
    "local_xi = xi_rand\n",
    "local_N, local_K = local_xi.shape\n",
    "params = (local_beta, local_xi)"
   ],
   "metadata": {
    "collapsed": false
   },
   "id": "9bc96c95f44e6d75"
  },
  {
   "cell_type": "markdown",
   "source": [
    "Get trajectories and plot the projection onto pattern subspace + norm of vector field"
   ],
   "metadata": {
    "collapsed": false
   },
   "id": "7146b0102a30a6e9"
  },
  {
   "cell_type": "code",
   "execution_count": null,
   "outputs": [],
   "source": [
    "np.random.seed(0)\n",
    "x0 = np.random.rand(local_N)"
   ],
   "metadata": {
    "collapsed": false
   },
   "id": "a0edac983986cc33"
  },
  {
   "cell_type": "code",
   "execution_count": null,
   "outputs": [],
   "source": [
    "print(x_traj.shape)\n",
    "\n",
    "methods_str = ['(A)', '(B)', '(C)']\n",
    "methods_foo = [dxdt_HN_quadratic_hebb_A, dxdt_HN_quadratic_hebb_B, dxdt_HN_quadratic_hebb_C]\n",
    "methods_traj_x = [0] * len(methods_str)\n",
    "methods_traj_t = [0] * len(methods_str)\n",
    "\n",
    "for idx in range(3):\n",
    "    x_traj, times_traj = run_traj(methods_foo[idx], x0, params, t0=0.0, tmax=4, dt_max=0.1)\n",
    "    methods_traj_x[idx] = x_traj\n",
    "    methods_traj_t[idx] = times_traj"
   ],
   "metadata": {
    "collapsed": false
   },
   "id": "46707820de7be0c0"
  },
  {
   "cell_type": "code",
   "execution_count": null,
   "outputs": [],
   "source": [
    "fig, axarr = plt.subplots(3, 2, sharex=True, figsize=(8,9))\n",
    "pltstyle = dict(linestyle='--', marker='o', markersize=4)\n",
    "for idx in range(3):\n",
    "    axarr[idx, 0].plot(methods_traj_x[idx] @ params[1] / local_N,  **pltstyle)\n",
    "    axarr[idx, 0].set_title('HN classic quadratic %s' % methods_str[idx])\n",
    "    axarr[idx, 0].axhline(0, linestyle='--', linewidth=2, c='k')\n",
    "    \n",
    "    dxdt_arr = methods_foo[idx](methods_traj_x[idx].T, 0, params)\n",
    "    axarr[idx, 1].plot(np.linalg.norm(dxdt_arr, axis=0),  **pltstyle)\n",
    "    axarr[idx, 1].set_title('Norm of $dx/dt$ for %s' % methods_str[idx])\n",
    "    axarr[idx, 1].axhline(0, linestyle='--', linewidth=2, c='k')\n",
    "    \n",
    "axarr[-1, 0].set_xlabel('t')\n",
    "axarr[-1, 1].set_xlabel('t')\n",
    "plt.suptitle('Example: HN classic quadratic\\n' + r'Trajectory $N^{-1} \\xi^T x(t)$ from random IC (N=%d, K=%d)' % (local_N, local_K))\n",
    "plt.show(); plt.close('all')"
   ],
   "metadata": {
    "collapsed": false
   },
   "id": "640ff9ab2b317f1a"
  },
  {
   "cell_type": "code",
   "execution_count": null,
   "outputs": [],
   "source": [
    "methods_traj_x[1][-1, :] @ params[1] / local_N"
   ],
   "metadata": {
    "collapsed": false
   },
   "id": "3d212ba28f1acf7c"
  },
  {
   "cell_type": "markdown",
   "source": [
    "### Classic HN variants: Repeat but for non-random IC (in vicinity of pattern 0)"
   ],
   "metadata": {
    "collapsed": false
   },
   "id": "510d5b8799fc7b41"
  },
  {
   "cell_type": "code",
   "execution_count": null,
   "outputs": [],
   "source": [
    "coeffs_rand = np.random.normal(loc=0, scale=0.5, size=local_K - 1)\n",
    "print(coeffs_rand)\n",
    "\n",
    "x0_near_pattern_0 = params[1][:, 0] + coeffs_rand @ params[1][:, 1:].T\n",
    "print('overlaps:', params[1].T @ x0_near_pattern_0 / local_N)"
   ],
   "metadata": {
    "collapsed": false
   },
   "id": "fe190d9b411387b6"
  },
  {
   "cell_type": "code",
   "execution_count": null,
   "outputs": [],
   "source": [
    "print(x_traj.shape)\n",
    "\n",
    "methods_str = ['(A)', '(B)', '(C)']\n",
    "methods_foo = [dxdt_HN_quadratic_hebb_A, dxdt_HN_quadratic_hebb_B, dxdt_HN_quadratic_hebb_C]\n",
    "methods_traj_x = [0] * len(methods_str)\n",
    "methods_traj_t = [0] * len(methods_str)\n",
    "\n",
    "for idx in range(3):\n",
    "    x_traj, times_traj = run_traj(methods_foo[idx], x0_near_pattern_0, params, t0=0.0, tmax=4, dt_max=0.1)\n",
    "    methods_traj_x[idx] = x_traj\n",
    "    methods_traj_t[idx] = times_traj"
   ],
   "metadata": {
    "collapsed": false
   },
   "id": "d116a4bb963012e8"
  },
  {
   "cell_type": "code",
   "execution_count": null,
   "outputs": [],
   "source": [
    "fig, axarr = plt.subplots(3, 2, sharex=True, figsize=(8,9))\n",
    "pltstyle = dict(linestyle='--', marker='o', markersize=4)\n",
    "for idx in range(3):\n",
    "    axarr[idx, 0].plot(methods_traj_x[idx] @ params[1] / local_N,  **pltstyle)\n",
    "    axarr[idx, 0].set_title('HN classic quadratic %s' % methods_str[idx])\n",
    "    axarr[idx, 0].axhline(0, linestyle='--', linewidth=2, c='k')\n",
    "    \n",
    "    dxdt_arr = methods_foo[idx](methods_traj_x[idx].T, 0, params)\n",
    "    axarr[idx, 1].plot(np.linalg.norm(dxdt_arr, axis=0),  **pltstyle)\n",
    "    axarr[idx, 1].set_title('Norm of $dx/dt$ for %s' % methods_str[idx])\n",
    "    axarr[idx, 1].axhline(0, linestyle='--', linewidth=2, c='k')\n",
    "    \n",
    "axarr[-1, 0].set_xlabel('t')\n",
    "axarr[-1, 1].set_xlabel('t')\n",
    "plt.suptitle('Example: HN classic quadratic\\n' + r'Trajectory $N^{-1} \\xi^T x(t)$ from IC near $\\xi^{(0)}$ (N=%d, K=%d)' % (local_N, local_K))\n",
    "plt.show(); plt.close('all')"
   ],
   "metadata": {
    "collapsed": false
   },
   "id": "a745db10fccaa291"
  },
  {
   "cell_type": "code",
   "execution_count": null,
   "outputs": [],
   "source": [
    "#dxdt_arr = methods_foo[0](np.zeros(5000), 0, params)\n",
    "dxdt_arr = dxdt_HN_quadratic_hebb_A(methods_traj_x[0][10,:], 0, params)\n",
    "#methods_foo\n",
    "print(dxdt_arr)\n",
    "print(dxdt_arr.shape)\n",
    "print(np.sqrt(dxdt_arr.T @ dxdt_arr))\n",
    "\n",
    "dxdt_arr = dxdt_HN_quadratic_hebb_A(params[1][:,0], 0, params)\n",
    "#methods_foo\n",
    "print(dxdt_arr)\n",
    "print(dxdt_arr.shape)\n",
    "print(np.sqrt(dxdt_arr.T @ dxdt_arr))"
   ],
   "metadata": {
    "collapsed": false
   },
   "id": "304f3800ad01a83d"
  },
  {
   "cell_type": "markdown",
   "source": [
    "### Now let's implement the modern Hopfield network vector field  \n",
    "$dx/dt = ...$"
   ],
   "metadata": {
    "collapsed": false
   },
   "id": "afc34d8493499e46"
  },
  {
   "cell_type": "code",
   "execution_count": null,
   "outputs": [],
   "source": [
    "# Note: keep signature of function fixed for now as x, t, p - state [dim N], times [scalar], params [dim p]\n",
    "# TODO jit all func, or torch for eventual Autodiff\n",
    "\n",
    "def dxdt_particle(x, t, params):\n",
    "    \"\"\"\n",
    "    # Throw a ball in R^2\n",
    "    # Three params: vx0, vy0, gravity\n",
    "    \"\"\"\n",
    "    vx0, vy0, g = params\n",
    "    dxdt = vx0\n",
    "    dydt = vy0 - g*t\n",
    "    return np.array([dxdt, dydt])\n",
    "\n",
    "# sample call\n",
    "dxdt_particle([10,10], 0, [1, 1, 9.8])"
   ],
   "metadata": {
    "collapsed": false
   },
   "id": "e2b0378075f2aaa0"
  },
  {
   "cell_type": "code",
   "execution_count": null,
   "outputs": [],
   "source": [
    "x0 = np.array([10,100])\n",
    "params = [1, 10, 9.8]\n",
    "x_traj, times_traj = run_traj(dxdt_particle, x0, params, t0=0.0, tmax=2, dt_max=0.1)"
   ],
   "metadata": {
    "collapsed": false
   },
   "id": "f9ec87c08dd7195a"
  },
  {
   "cell_type": "code",
   "execution_count": null,
   "outputs": [],
   "source": [
    "fig, axarr = plt.subplots(2, 1, sharex=True)\n",
    "pltstyle = dict(linestyle='--', marker='o')\n",
    "axarr[0].plot(times_traj, x_traj[:,0], **pltstyle); axarr[0].set_title('x vs t') \n",
    "axarr[1].plot(times_traj, x_traj[:,1], **pltstyle); axarr[1].set_title('y vs t')\n",
    "plt.suptitle('Simple example: launch particle with gravity - euler method')\n",
    "plt.show(); plt.close('all')"
   ],
   "metadata": {
    "collapsed": false
   },
   "id": "cdffa5470e894131"
  },
  {
   "cell_type": "code",
   "execution_count": null,
   "outputs": [],
   "source": [],
   "metadata": {
    "collapsed": false
   },
   "id": "6a835c51c357b3cd"
  }
 ],
 "metadata": {
  "kernelspec": {
   "name": "py310celltypes",
   "language": "python",
   "display_name": "Python 3.10 (celltypes)"
  },
  "language_info": {
   "codemirror_mode": {
    "name": "ipython",
    "version": 2
   },
   "file_extension": ".py",
   "mimetype": "text/x-python",
   "name": "python",
   "nbconvert_exporter": "python",
   "pygments_lexer": "ipython2",
   "version": "2.7.6"
  }
 },
 "nbformat": 4,
 "nbformat_minor": 5
}
