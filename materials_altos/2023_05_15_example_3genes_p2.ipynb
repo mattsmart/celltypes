{
 "cells": [
  {
   "cell_type": "code",
   "execution_count": 1,
   "id": "9524f9cc",
   "metadata": {},
   "outputs": [],
   "source": [
    "import numpy as np\n",
    "import scipy as sp"
   ]
  },
  {
   "cell_type": "code",
   "execution_count": 36,
   "id": "e1629643",
   "metadata": {},
   "outputs": [],
   "source": [
    " np.set_printoptions(formatter={'float': lambda x: \"{0:0.3f}\".format(x)})"
   ]
  },
  {
   "cell_type": "markdown",
   "id": "2bd560e4",
   "metadata": {},
   "source": [
    "# Construct $J_{ij}$ for some choice of pattern vectors"
   ]
  },
  {
   "cell_type": "code",
   "execution_count": 35,
   "id": "7dc07ae7",
   "metadata": {},
   "outputs": [
    {
     "name": "stdout",
     "output_type": "stream",
     "text": [
      "[[ 1  1]\n",
      " [ 1 -1]\n",
      " [ 1 -1]]\n"
     ]
    }
   ],
   "source": [
    "xi_1 = [1, 1, 1]\n",
    "xi_2 = [1, -1, -1]\n",
    "xi_matrix = np.array([xi_1, xi_2]).T\n",
    "print(xi_matrix)"
   ]
  },
  {
   "cell_type": "code",
   "execution_count": 15,
   "id": "33790a5f",
   "metadata": {},
   "outputs": [
    {
     "name": "stdout",
     "output_type": "stream",
     "text": [
      "3 2\n"
     ]
    }
   ],
   "source": [
    "N, p = xi_matrix.shape\n",
    "print(N, p)"
   ]
  },
  {
   "cell_type": "code",
   "execution_count": 12,
   "id": "331f1b30",
   "metadata": {},
   "outputs": [
    {
     "name": "stdout",
     "output_type": "stream",
     "text": [
      "[[ 3 -1]\n",
      " [-1  3]]\n"
     ]
    }
   ],
   "source": [
    "A_matrix = xi_matrix.T @ xi_matrix\n",
    "print(A_matrix)"
   ]
  },
  {
   "cell_type": "code",
   "execution_count": 13,
   "id": "1ba6eda7",
   "metadata": {},
   "outputs": [
    {
     "name": "stdout",
     "output_type": "stream",
     "text": [
      "[[0.375 0.125]\n",
      " [0.125 0.375]]\n"
     ]
    }
   ],
   "source": [
    "A_inverse = np.linalg.inv(A_matrix)\n",
    "print(A_inverse)"
   ]
  },
  {
   "cell_type": "code",
   "execution_count": 24,
   "id": "05e487f4",
   "metadata": {},
   "outputs": [
    {
     "name": "stdout",
     "output_type": "stream",
     "text": [
      "[[1.  0.  0. ]\n",
      " [0.  0.5 0.5]\n",
      " [0.  0.5 0.5]]\n"
     ]
    }
   ],
   "source": [
    "J_matrix = xi_matrix @ A_inverse @ xi_matrix.T\n",
    "print(J_matrix)"
   ]
  },
  {
   "cell_type": "code",
   "execution_count": 26,
   "id": "d51a8f1e",
   "metadata": {},
   "outputs": [
    {
     "name": "stdout",
     "output_type": "stream",
     "text": [
      "[[0.  0.  0. ]\n",
      " [0.  0.  0.5]\n",
      " [0.  0.5 0. ]]\n"
     ]
    }
   ],
   "source": [
    "J_matrix_hollowed = J_matrix - np.diag(np.diag(J_matrix))\n",
    "print(J_matrix_hollowed)"
   ]
  },
  {
   "cell_type": "markdown",
   "id": "97d39b36",
   "metadata": {},
   "source": [
    "# Eigenvalues and eigenvectors for $\\bf{J}$"
   ]
  },
  {
   "cell_type": "code",
   "execution_count": 25,
   "id": "220c992e",
   "metadata": {},
   "outputs": [],
   "source": [
    "w, v = np.linalg.eig(J_matrix)"
   ]
  },
  {
   "cell_type": "code",
   "execution_count": 19,
   "id": "56a3487a",
   "metadata": {},
   "outputs": [
    {
     "data": {
      "text/plain": [
       "array([1.00000000e+00, 1.11022302e-16, 1.00000000e+00])"
      ]
     },
     "execution_count": 19,
     "metadata": {},
     "output_type": "execute_result"
    }
   ],
   "source": [
    "w"
   ]
  },
  {
   "cell_type": "code",
   "execution_count": 20,
   "id": "b45dab79",
   "metadata": {},
   "outputs": [
    {
     "data": {
      "text/plain": [
       "array([[ 0.        ,  0.        ,  1.        ],\n",
       "       [ 0.70710678,  0.70710678,  0.        ],\n",
       "       [ 0.70710678, -0.70710678,  0.        ]])"
      ]
     },
     "execution_count": 20,
     "metadata": {},
     "output_type": "execute_result"
    }
   ],
   "source": [
    "v"
   ]
  },
  {
   "cell_type": "code",
   "execution_count": 21,
   "id": "a91c2d71",
   "metadata": {},
   "outputs": [
    {
     "data": {
      "text/plain": [
       "array([1., 1., 1.])"
      ]
     },
     "execution_count": 21,
     "metadata": {},
     "output_type": "execute_result"
    }
   ],
   "source": [
    "J_matrix @ xi_1"
   ]
  },
  {
   "cell_type": "code",
   "execution_count": 22,
   "id": "975aff4b",
   "metadata": {},
   "outputs": [
    {
     "data": {
      "text/plain": [
       "array([ 1., -1., -1.])"
      ]
     },
     "execution_count": 22,
     "metadata": {},
     "output_type": "execute_result"
    }
   ],
   "source": [
    "J_matrix @ xi_2"
   ]
  },
  {
   "cell_type": "markdown",
   "id": "cc7d1621",
   "metadata": {},
   "source": [
    "# Eigenvalues and eigenvectors for $\\bf{J'}$ with $J_{ii}$ set to $0$"
   ]
  },
  {
   "cell_type": "code",
   "execution_count": 27,
   "id": "6040a0c0",
   "metadata": {},
   "outputs": [],
   "source": [
    "w_prime, v_prime = np.linalg.eig(J_matrix_hollowed)"
   ]
  },
  {
   "cell_type": "code",
   "execution_count": 28,
   "id": "63e9e7c2",
   "metadata": {},
   "outputs": [
    {
     "data": {
      "text/plain": [
       "array([ 0.5, -0.5,  0. ])"
      ]
     },
     "execution_count": 28,
     "metadata": {},
     "output_type": "execute_result"
    }
   ],
   "source": [
    "w_prime"
   ]
  },
  {
   "cell_type": "code",
   "execution_count": 30,
   "id": "4cce5bad",
   "metadata": {},
   "outputs": [
    {
     "data": {
      "text/plain": [
       "array([[ 0.        ,  0.        ,  1.        ],\n",
       "       [ 0.70710678,  0.70710678,  0.        ],\n",
       "       [ 0.70710678, -0.70710678,  0.        ]])"
      ]
     },
     "execution_count": 30,
     "metadata": {},
     "output_type": "execute_result"
    }
   ],
   "source": [
    "v_prime"
   ]
  },
  {
   "cell_type": "code",
   "execution_count": 33,
   "id": "7b5b9336",
   "metadata": {},
   "outputs": [
    {
     "data": {
      "text/plain": [
       "array([0. , 0.5, 0.5])"
      ]
     },
     "execution_count": 33,
     "metadata": {},
     "output_type": "execute_result"
    }
   ],
   "source": [
    "J_matrix_hollowed @ xi_1"
   ]
  },
  {
   "cell_type": "code",
   "execution_count": 34,
   "id": "8c97d830",
   "metadata": {},
   "outputs": [
    {
     "data": {
      "text/plain": [
       "array([ 0. , -0.5, -0.5])"
      ]
     },
     "execution_count": 34,
     "metadata": {},
     "output_type": "execute_result"
    }
   ],
   "source": [
    "J_matrix_hollowed @ xi_2"
   ]
  }
 ],
 "metadata": {
  "kernelspec": {
   "display_name": "Python 3 (ipykernel)",
   "language": "python",
   "name": "python3"
  },
  "language_info": {
   "codemirror_mode": {
    "name": "ipython",
    "version": 3
   },
   "file_extension": ".py",
   "mimetype": "text/x-python",
   "name": "python",
   "nbconvert_exporter": "python",
   "pygments_lexer": "ipython3",
   "version": "3.8.10"
  }
 },
 "nbformat": 4,
 "nbformat_minor": 5
}
