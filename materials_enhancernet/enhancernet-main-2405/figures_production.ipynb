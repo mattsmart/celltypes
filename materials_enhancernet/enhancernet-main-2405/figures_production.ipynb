{
 "cells": [
  {
   "cell_type": "code",
   "execution_count": 9,
   "metadata": {
    "ExecuteTime": {
     "end_time": "2024-05-17T13:25:02.865813Z",
     "start_time": "2024-05-17T13:25:02.857365Z"
    }
   },
   "outputs": [],
   "source": [
    "import numpy as np\n",
    "import pandas as pd\n",
    "import matplotlib.pyplot as plt\n",
    "import matplotlib.cm as cm\n",
    "from scipy.special import softmax\n",
    "from scipy.spatial.distance import euclidean\n",
    "\n",
    "# MS: TODO comment out for now\n",
    "#import biomart\n",
    "\n",
    "\n",
    "import umap\n",
    "import pickle\n",
    "import scipy.spatial as sp\n",
    "import seaborn as sns\n",
    "import itertools\n",
    "\n",
    "from sklearn.decomposition import PCA\n",
    "from sklearn.cluster import AgglomerativeClustering\n",
    "from sklearn.datasets import load_iris\n",
    "\n",
    "from scipy.spatial.distance import pdist,squareform\n",
    "from scipy.cluster import hierarchy\n",
    "\n",
    "from numpy.linalg import eig\n",
    "\n",
    "import glob"
   ]
  },
  {
   "cell_type": "code",
   "execution_count": 10,
   "metadata": {
    "ExecuteTime": {
     "end_time": "2024-05-17T13:25:03.226552Z",
     "start_time": "2024-05-17T13:25:03.222306Z"
    }
   },
   "outputs": [],
   "source": [
    "from API import Visualizations, Resolver, TFProcessStaticBeta, TFProcessAnnealing, Genome, GenomeFromTFDicts,GenomeFromEnAssociations"
   ]
  },
  {
   "cell_type": "markdown",
   "metadata": {},
   "source": [
    "# API"
   ]
  },
  {
   "cell_type": "markdown",
   "metadata": {},
   "source": [
    "# Figure 2 - Tabula Muris and reprogramming"
   ]
  },
  {
   "cell_type": "code",
   "execution_count": 11,
   "metadata": {
    "ExecuteTime": {
     "end_time": "2024-05-17T13:25:07.445788Z",
     "start_time": "2024-05-17T13:25:07.406011Z"
    }
   },
   "outputs": [
    {
     "ename": "FileNotFoundError",
     "evalue": "[Errno 2] No such file or directory: '../tabula_muris/direct_reprogramming_recipes.csv'",
     "output_type": "error",
     "traceback": [
      "\u001B[0;31m---------------------------------------------------------------------------\u001B[0m",
      "\u001B[0;31mFileNotFoundError\u001B[0m                         Traceback (most recent call last)",
      "Cell \u001B[0;32mIn[11], line 1\u001B[0m\n\u001B[0;32m----> 1\u001B[0m reprog_paths \u001B[38;5;241m=\u001B[39m \u001B[43mpd\u001B[49m\u001B[38;5;241;43m.\u001B[39;49m\u001B[43mread_csv\u001B[49m\u001B[43m(\u001B[49m\u001B[38;5;124;43m\"\u001B[39;49m\u001B[38;5;124;43m../tabula_muris/direct_reprogramming_recipes.csv\u001B[39;49m\u001B[38;5;124;43m\"\u001B[39;49m\u001B[43m)\u001B[49m\n\u001B[1;32m      2\u001B[0m reprog_facts \u001B[38;5;241m=\u001B[39m []\n\u001B[1;32m      3\u001B[0m _\u001B[38;5;241m=\u001B[39m[[reprog_facts\u001B[38;5;241m.\u001B[39mappend(y) \u001B[38;5;28;01mfor\u001B[39;00m y \u001B[38;5;129;01min\u001B[39;00m x\u001B[38;5;241m.\u001B[39msplit(\u001B[38;5;124m\"\u001B[39m\u001B[38;5;124m,\u001B[39m\u001B[38;5;124m\"\u001B[39m)] \u001B[38;5;28;01mfor\u001B[39;00m x \u001B[38;5;129;01min\u001B[39;00m reprog_paths\u001B[38;5;241m.\u001B[39mfactors\u001B[38;5;241m.\u001B[39mvalues]\n",
      "File \u001B[0;32m~/Development/Repositories/venvs/celltypes-py311/lib/python3.11/site-packages/pandas/io/parsers/readers.py:948\u001B[0m, in \u001B[0;36mread_csv\u001B[0;34m(filepath_or_buffer, sep, delimiter, header, names, index_col, usecols, dtype, engine, converters, true_values, false_values, skipinitialspace, skiprows, skipfooter, nrows, na_values, keep_default_na, na_filter, verbose, skip_blank_lines, parse_dates, infer_datetime_format, keep_date_col, date_parser, date_format, dayfirst, cache_dates, iterator, chunksize, compression, thousands, decimal, lineterminator, quotechar, quoting, doublequote, escapechar, comment, encoding, encoding_errors, dialect, on_bad_lines, delim_whitespace, low_memory, memory_map, float_precision, storage_options, dtype_backend)\u001B[0m\n\u001B[1;32m    935\u001B[0m kwds_defaults \u001B[38;5;241m=\u001B[39m _refine_defaults_read(\n\u001B[1;32m    936\u001B[0m     dialect,\n\u001B[1;32m    937\u001B[0m     delimiter,\n\u001B[0;32m   (...)\u001B[0m\n\u001B[1;32m    944\u001B[0m     dtype_backend\u001B[38;5;241m=\u001B[39mdtype_backend,\n\u001B[1;32m    945\u001B[0m )\n\u001B[1;32m    946\u001B[0m kwds\u001B[38;5;241m.\u001B[39mupdate(kwds_defaults)\n\u001B[0;32m--> 948\u001B[0m \u001B[38;5;28;01mreturn\u001B[39;00m \u001B[43m_read\u001B[49m\u001B[43m(\u001B[49m\u001B[43mfilepath_or_buffer\u001B[49m\u001B[43m,\u001B[49m\u001B[43m \u001B[49m\u001B[43mkwds\u001B[49m\u001B[43m)\u001B[49m\n",
      "File \u001B[0;32m~/Development/Repositories/venvs/celltypes-py311/lib/python3.11/site-packages/pandas/io/parsers/readers.py:611\u001B[0m, in \u001B[0;36m_read\u001B[0;34m(filepath_or_buffer, kwds)\u001B[0m\n\u001B[1;32m    608\u001B[0m _validate_names(kwds\u001B[38;5;241m.\u001B[39mget(\u001B[38;5;124m\"\u001B[39m\u001B[38;5;124mnames\u001B[39m\u001B[38;5;124m\"\u001B[39m, \u001B[38;5;28;01mNone\u001B[39;00m))\n\u001B[1;32m    610\u001B[0m \u001B[38;5;66;03m# Create the parser.\u001B[39;00m\n\u001B[0;32m--> 611\u001B[0m parser \u001B[38;5;241m=\u001B[39m \u001B[43mTextFileReader\u001B[49m\u001B[43m(\u001B[49m\u001B[43mfilepath_or_buffer\u001B[49m\u001B[43m,\u001B[49m\u001B[43m \u001B[49m\u001B[38;5;241;43m*\u001B[39;49m\u001B[38;5;241;43m*\u001B[39;49m\u001B[43mkwds\u001B[49m\u001B[43m)\u001B[49m\n\u001B[1;32m    613\u001B[0m \u001B[38;5;28;01mif\u001B[39;00m chunksize \u001B[38;5;129;01mor\u001B[39;00m iterator:\n\u001B[1;32m    614\u001B[0m     \u001B[38;5;28;01mreturn\u001B[39;00m parser\n",
      "File \u001B[0;32m~/Development/Repositories/venvs/celltypes-py311/lib/python3.11/site-packages/pandas/io/parsers/readers.py:1448\u001B[0m, in \u001B[0;36mTextFileReader.__init__\u001B[0;34m(self, f, engine, **kwds)\u001B[0m\n\u001B[1;32m   1445\u001B[0m     \u001B[38;5;28mself\u001B[39m\u001B[38;5;241m.\u001B[39moptions[\u001B[38;5;124m\"\u001B[39m\u001B[38;5;124mhas_index_names\u001B[39m\u001B[38;5;124m\"\u001B[39m] \u001B[38;5;241m=\u001B[39m kwds[\u001B[38;5;124m\"\u001B[39m\u001B[38;5;124mhas_index_names\u001B[39m\u001B[38;5;124m\"\u001B[39m]\n\u001B[1;32m   1447\u001B[0m \u001B[38;5;28mself\u001B[39m\u001B[38;5;241m.\u001B[39mhandles: IOHandles \u001B[38;5;241m|\u001B[39m \u001B[38;5;28;01mNone\u001B[39;00m \u001B[38;5;241m=\u001B[39m \u001B[38;5;28;01mNone\u001B[39;00m\n\u001B[0;32m-> 1448\u001B[0m \u001B[38;5;28mself\u001B[39m\u001B[38;5;241m.\u001B[39m_engine \u001B[38;5;241m=\u001B[39m \u001B[38;5;28;43mself\u001B[39;49m\u001B[38;5;241;43m.\u001B[39;49m\u001B[43m_make_engine\u001B[49m\u001B[43m(\u001B[49m\u001B[43mf\u001B[49m\u001B[43m,\u001B[49m\u001B[43m \u001B[49m\u001B[38;5;28;43mself\u001B[39;49m\u001B[38;5;241;43m.\u001B[39;49m\u001B[43mengine\u001B[49m\u001B[43m)\u001B[49m\n",
      "File \u001B[0;32m~/Development/Repositories/venvs/celltypes-py311/lib/python3.11/site-packages/pandas/io/parsers/readers.py:1705\u001B[0m, in \u001B[0;36mTextFileReader._make_engine\u001B[0;34m(self, f, engine)\u001B[0m\n\u001B[1;32m   1703\u001B[0m     \u001B[38;5;28;01mif\u001B[39;00m \u001B[38;5;124m\"\u001B[39m\u001B[38;5;124mb\u001B[39m\u001B[38;5;124m\"\u001B[39m \u001B[38;5;129;01mnot\u001B[39;00m \u001B[38;5;129;01min\u001B[39;00m mode:\n\u001B[1;32m   1704\u001B[0m         mode \u001B[38;5;241m+\u001B[39m\u001B[38;5;241m=\u001B[39m \u001B[38;5;124m\"\u001B[39m\u001B[38;5;124mb\u001B[39m\u001B[38;5;124m\"\u001B[39m\n\u001B[0;32m-> 1705\u001B[0m \u001B[38;5;28mself\u001B[39m\u001B[38;5;241m.\u001B[39mhandles \u001B[38;5;241m=\u001B[39m \u001B[43mget_handle\u001B[49m\u001B[43m(\u001B[49m\n\u001B[1;32m   1706\u001B[0m \u001B[43m    \u001B[49m\u001B[43mf\u001B[49m\u001B[43m,\u001B[49m\n\u001B[1;32m   1707\u001B[0m \u001B[43m    \u001B[49m\u001B[43mmode\u001B[49m\u001B[43m,\u001B[49m\n\u001B[1;32m   1708\u001B[0m \u001B[43m    \u001B[49m\u001B[43mencoding\u001B[49m\u001B[38;5;241;43m=\u001B[39;49m\u001B[38;5;28;43mself\u001B[39;49m\u001B[38;5;241;43m.\u001B[39;49m\u001B[43moptions\u001B[49m\u001B[38;5;241;43m.\u001B[39;49m\u001B[43mget\u001B[49m\u001B[43m(\u001B[49m\u001B[38;5;124;43m\"\u001B[39;49m\u001B[38;5;124;43mencoding\u001B[39;49m\u001B[38;5;124;43m\"\u001B[39;49m\u001B[43m,\u001B[49m\u001B[43m \u001B[49m\u001B[38;5;28;43;01mNone\u001B[39;49;00m\u001B[43m)\u001B[49m\u001B[43m,\u001B[49m\n\u001B[1;32m   1709\u001B[0m \u001B[43m    \u001B[49m\u001B[43mcompression\u001B[49m\u001B[38;5;241;43m=\u001B[39;49m\u001B[38;5;28;43mself\u001B[39;49m\u001B[38;5;241;43m.\u001B[39;49m\u001B[43moptions\u001B[49m\u001B[38;5;241;43m.\u001B[39;49m\u001B[43mget\u001B[49m\u001B[43m(\u001B[49m\u001B[38;5;124;43m\"\u001B[39;49m\u001B[38;5;124;43mcompression\u001B[39;49m\u001B[38;5;124;43m\"\u001B[39;49m\u001B[43m,\u001B[49m\u001B[43m \u001B[49m\u001B[38;5;28;43;01mNone\u001B[39;49;00m\u001B[43m)\u001B[49m\u001B[43m,\u001B[49m\n\u001B[1;32m   1710\u001B[0m \u001B[43m    \u001B[49m\u001B[43mmemory_map\u001B[49m\u001B[38;5;241;43m=\u001B[39;49m\u001B[38;5;28;43mself\u001B[39;49m\u001B[38;5;241;43m.\u001B[39;49m\u001B[43moptions\u001B[49m\u001B[38;5;241;43m.\u001B[39;49m\u001B[43mget\u001B[49m\u001B[43m(\u001B[49m\u001B[38;5;124;43m\"\u001B[39;49m\u001B[38;5;124;43mmemory_map\u001B[39;49m\u001B[38;5;124;43m\"\u001B[39;49m\u001B[43m,\u001B[49m\u001B[43m \u001B[49m\u001B[38;5;28;43;01mFalse\u001B[39;49;00m\u001B[43m)\u001B[49m\u001B[43m,\u001B[49m\n\u001B[1;32m   1711\u001B[0m \u001B[43m    \u001B[49m\u001B[43mis_text\u001B[49m\u001B[38;5;241;43m=\u001B[39;49m\u001B[43mis_text\u001B[49m\u001B[43m,\u001B[49m\n\u001B[1;32m   1712\u001B[0m \u001B[43m    \u001B[49m\u001B[43merrors\u001B[49m\u001B[38;5;241;43m=\u001B[39;49m\u001B[38;5;28;43mself\u001B[39;49m\u001B[38;5;241;43m.\u001B[39;49m\u001B[43moptions\u001B[49m\u001B[38;5;241;43m.\u001B[39;49m\u001B[43mget\u001B[49m\u001B[43m(\u001B[49m\u001B[38;5;124;43m\"\u001B[39;49m\u001B[38;5;124;43mencoding_errors\u001B[39;49m\u001B[38;5;124;43m\"\u001B[39;49m\u001B[43m,\u001B[49m\u001B[43m \u001B[49m\u001B[38;5;124;43m\"\u001B[39;49m\u001B[38;5;124;43mstrict\u001B[39;49m\u001B[38;5;124;43m\"\u001B[39;49m\u001B[43m)\u001B[49m\u001B[43m,\u001B[49m\n\u001B[1;32m   1713\u001B[0m \u001B[43m    \u001B[49m\u001B[43mstorage_options\u001B[49m\u001B[38;5;241;43m=\u001B[39;49m\u001B[38;5;28;43mself\u001B[39;49m\u001B[38;5;241;43m.\u001B[39;49m\u001B[43moptions\u001B[49m\u001B[38;5;241;43m.\u001B[39;49m\u001B[43mget\u001B[49m\u001B[43m(\u001B[49m\u001B[38;5;124;43m\"\u001B[39;49m\u001B[38;5;124;43mstorage_options\u001B[39;49m\u001B[38;5;124;43m\"\u001B[39;49m\u001B[43m,\u001B[49m\u001B[43m \u001B[49m\u001B[38;5;28;43;01mNone\u001B[39;49;00m\u001B[43m)\u001B[49m\u001B[43m,\u001B[49m\n\u001B[1;32m   1714\u001B[0m \u001B[43m\u001B[49m\u001B[43m)\u001B[49m\n\u001B[1;32m   1715\u001B[0m \u001B[38;5;28;01massert\u001B[39;00m \u001B[38;5;28mself\u001B[39m\u001B[38;5;241m.\u001B[39mhandles \u001B[38;5;129;01mis\u001B[39;00m \u001B[38;5;129;01mnot\u001B[39;00m \u001B[38;5;28;01mNone\u001B[39;00m\n\u001B[1;32m   1716\u001B[0m f \u001B[38;5;241m=\u001B[39m \u001B[38;5;28mself\u001B[39m\u001B[38;5;241m.\u001B[39mhandles\u001B[38;5;241m.\u001B[39mhandle\n",
      "File \u001B[0;32m~/Development/Repositories/venvs/celltypes-py311/lib/python3.11/site-packages/pandas/io/common.py:863\u001B[0m, in \u001B[0;36mget_handle\u001B[0;34m(path_or_buf, mode, encoding, compression, memory_map, is_text, errors, storage_options)\u001B[0m\n\u001B[1;32m    858\u001B[0m \u001B[38;5;28;01melif\u001B[39;00m \u001B[38;5;28misinstance\u001B[39m(handle, \u001B[38;5;28mstr\u001B[39m):\n\u001B[1;32m    859\u001B[0m     \u001B[38;5;66;03m# Check whether the filename is to be opened in binary mode.\u001B[39;00m\n\u001B[1;32m    860\u001B[0m     \u001B[38;5;66;03m# Binary mode does not support 'encoding' and 'newline'.\u001B[39;00m\n\u001B[1;32m    861\u001B[0m     \u001B[38;5;28;01mif\u001B[39;00m ioargs\u001B[38;5;241m.\u001B[39mencoding \u001B[38;5;129;01mand\u001B[39;00m \u001B[38;5;124m\"\u001B[39m\u001B[38;5;124mb\u001B[39m\u001B[38;5;124m\"\u001B[39m \u001B[38;5;129;01mnot\u001B[39;00m \u001B[38;5;129;01min\u001B[39;00m ioargs\u001B[38;5;241m.\u001B[39mmode:\n\u001B[1;32m    862\u001B[0m         \u001B[38;5;66;03m# Encoding\u001B[39;00m\n\u001B[0;32m--> 863\u001B[0m         handle \u001B[38;5;241m=\u001B[39m \u001B[38;5;28;43mopen\u001B[39;49m\u001B[43m(\u001B[49m\n\u001B[1;32m    864\u001B[0m \u001B[43m            \u001B[49m\u001B[43mhandle\u001B[49m\u001B[43m,\u001B[49m\n\u001B[1;32m    865\u001B[0m \u001B[43m            \u001B[49m\u001B[43mioargs\u001B[49m\u001B[38;5;241;43m.\u001B[39;49m\u001B[43mmode\u001B[49m\u001B[43m,\u001B[49m\n\u001B[1;32m    866\u001B[0m \u001B[43m            \u001B[49m\u001B[43mencoding\u001B[49m\u001B[38;5;241;43m=\u001B[39;49m\u001B[43mioargs\u001B[49m\u001B[38;5;241;43m.\u001B[39;49m\u001B[43mencoding\u001B[49m\u001B[43m,\u001B[49m\n\u001B[1;32m    867\u001B[0m \u001B[43m            \u001B[49m\u001B[43merrors\u001B[49m\u001B[38;5;241;43m=\u001B[39;49m\u001B[43merrors\u001B[49m\u001B[43m,\u001B[49m\n\u001B[1;32m    868\u001B[0m \u001B[43m            \u001B[49m\u001B[43mnewline\u001B[49m\u001B[38;5;241;43m=\u001B[39;49m\u001B[38;5;124;43m\"\u001B[39;49m\u001B[38;5;124;43m\"\u001B[39;49m\u001B[43m,\u001B[49m\n\u001B[1;32m    869\u001B[0m \u001B[43m        \u001B[49m\u001B[43m)\u001B[49m\n\u001B[1;32m    870\u001B[0m     \u001B[38;5;28;01melse\u001B[39;00m:\n\u001B[1;32m    871\u001B[0m         \u001B[38;5;66;03m# Binary mode\u001B[39;00m\n\u001B[1;32m    872\u001B[0m         handle \u001B[38;5;241m=\u001B[39m \u001B[38;5;28mopen\u001B[39m(handle, ioargs\u001B[38;5;241m.\u001B[39mmode)\n",
      "\u001B[0;31mFileNotFoundError\u001B[0m: [Errno 2] No such file or directory: '../tabula_muris/direct_reprogramming_recipes.csv'"
     ]
    }
   ],
   "source": [
    "reprog_paths = pd.read_csv(\"../tabula_muris/direct_reprogramming_recipes.csv\")\n",
    "reprog_facts = []\n",
    "_=[[reprog_facts.append(y) for y in x.split(\",\")] for x in reprog_paths.factors.values]\n",
    "reprog_facts=np.unique(reprog_facts)\n",
    "inv_mapping = pickle.load(open('../inv_mapping.pickle','rb'))\n",
    "mapping = pickle.load(open('../mapping.pickle','rb'))\n",
    "annotations = pd.read_csv(\"../tabula_muris/annotations_facs.csv\").set_index('cell')\n",
    "metadata = pd.read_csv(\"../tabula_muris/metadata_FACS.csv\")\n",
    "\n",
    "rel_ctypes = [\n",
    "          'Bergmann glial cell',\n",
    "          'Brush cell of epithelium proper of large intestine',\n",
    "          'Kupffer cell',\n",
    "          'astrocyte',\n",
    "          'basal cell', \n",
    "          'basal cell of epidermis', \n",
    "          'basophil', \n",
    "          'bladder cell',\n",
    "          'bladder urothelial cell', \n",
    "          'brain pericyte',\n",
    "          'cardiac muscle cell',\n",
    "          'ciliated columnar cell of tracheobronchial tree', \n",
    "          'endocardial cell',\n",
    "          'endothelial cell of hepatic sinusoid',\n",
    "          'enterocyte of epithelium of large intestine', \n",
    "          'enteroendocrine cell',\n",
    "          'epidermal cell', \n",
    "          'epithelial cell of large intestine', \n",
    "          'epithelial cell of lung',\n",
    "          'epithelial cell of proximal tubule', \n",
    "          'erythrocyte', \n",
    "          'fibroblast',\n",
    "          'hepatocyte',\n",
    "          'B cell', 'T cell',\n",
    "          'natural killer cell',\n",
    "          'keratinocyte',\n",
    "          'kidney collecting duct epithelial cell',\n",
    "          'large intestine goblet cell',\n",
    "          'luminal epithelial cell of mammary gland', \n",
    "          'lung endothelial cell',\n",
    "          'macrophage',\n",
    "          'mesenchymal cell',\n",
    "          'microglial cell', \n",
    "          'monocyte', \n",
    "          'myofibroblast cell',\n",
    "          'neuron', \n",
    "          'oligodendrocyte',\n",
    "          'pancreatic A cell',\n",
    "          'pancreatic D cell', \n",
    "          'pancreatic PP cell', \n",
    "          'pancreatic acinar cell',\n",
    "          'pancreatic ductal cell', \n",
    "          'pancreatic stellate cell',\n",
    "          'professional antigen presenting cell', \n",
    "          'skeletal muscle satellite cell', \n",
    "          'smooth muscle cell', \n",
    "          'stromal cell',\n",
    "          'type B pancreatic cell']"
   ]
  },
  {
   "cell_type": "code",
   "execution_count": null,
   "metadata": {
    "ExecuteTime": {
     "end_time": "2024-05-17T13:23:46.393892Z",
     "start_time": "2024-05-17T13:23:46.393723Z"
    }
   },
   "outputs": [],
   "source": [
    "def initialize_ctypes():\n",
    "    def load_tabmuris_data(fs):\n",
    "        total_data_tfs = []\n",
    "        for f in fs:\n",
    "            data =pd.read_csv(f,index_col=0)\n",
    "            new_idx_tfs = []\n",
    "            for x in data.index:\n",
    "                if x in inv_mapping.keys() and inv_mapping[x] in tfs.index:\n",
    "                    new_idx_tfs.append(x)\n",
    "                elif x in [\"Spi1\",\"Lmo2\"]:\n",
    "                    new_idx_tfs.append(x)\n",
    "            data_tfs = data.loc[new_idx_tfs].T\n",
    "            total_data_tfs.append(data_tfs)\n",
    "        total_data_tfs = pd.concat(total_data_tfs)\n",
    "        return total_data_tfs\n",
    "\n",
    "    def gen_ctype_lst(dataset):\n",
    "        lst = []\n",
    "        ctypes = []\n",
    "        for j in dataset.index:\n",
    "            lst.append(j in annotations.index)\n",
    "            if lst[-1]:\n",
    "                ctypes.append(annotations.loc[j].cell_ontology_class)\n",
    "        return ctypes,lst\n",
    "    def load_and_generate_avgd_by_celltypes():\n",
    "\n",
    "        total_data_tfs = load_tabmuris_data(glob.glob(\"tabula_muris/FACS/*\"))\n",
    "        ctypes,lst = gen_ctype_lst(total_data_tfs)\n",
    "        total_data_tfs = total_data_tfs[lst]\n",
    "        avgd_by_ctype = total_data_tfs.groupby(ctypes).mean()\n",
    "        avgd_by_ctype.to_csv(\"../tabula_muris/avgd_by_ctype.csv\")\n",
    "        \n",
    "def load_ctype_patterns():\n",
    "    avgd_by_ctype = pd.read_csv(\"../tabula_muris/avgd_by_ctype.csv\",index_col=0)\n",
    "    return avgd_by_ctype\n",
    "\n",
    "def preprocess_ctype_patterns(patterns):\n",
    "    df = np.log1p(patterns)\n",
    "    rel_tfs = list(set(list(df.columns[(df.max()>0) & (df.mean()>np.log1p(3)) & (df.std()>np.log1p(3))].values)  + list(reprog_facts)))\n",
    "    #df=patterns\n",
    "    df = df.loc[:,set(rel_tfs)]\n",
    "    return df"
   ]
  },
  {
   "cell_type": "code",
   "execution_count": 7,
   "metadata": {
    "ExecuteTime": {
     "end_time": "2024-05-17T13:23:46.709261Z",
     "start_time": "2024-05-17T13:23:46.698700Z"
    }
   },
   "outputs": [
    {
     "ename": "NameError",
     "evalue": "name 'preprocess_ctype_patterns' is not defined",
     "output_type": "error",
     "traceback": [
      "\u001B[0;31m---------------------------------------------------------------------------\u001B[0m",
      "\u001B[0;31mNameError\u001B[0m                                 Traceback (most recent call last)",
      "Cell \u001B[0;32mIn[7], line 1\u001B[0m\n\u001B[0;32m----> 1\u001B[0m df \u001B[38;5;241m=\u001B[39m \u001B[43mpreprocess_ctype_patterns\u001B[49m(load_ctype_patterns()\u001B[38;5;241m.\u001B[39mloc[rel_ctypes])\n\u001B[1;32m      2\u001B[0m pd\u001B[38;5;241m.\u001B[39mDataFrame(df\u001B[38;5;241m.\u001B[39mindex)\u001B[38;5;241m.\u001B[39mto_csv(\u001B[38;5;124m\"\u001B[39m\u001B[38;5;124m../outputs/TM_Celltypes.csv\u001B[39m\u001B[38;5;124m\"\u001B[39m,header\u001B[38;5;241m=\u001B[39m\u001B[38;5;28;01mFalse\u001B[39;00m, index\u001B[38;5;241m=\u001B[39m\u001B[38;5;28;01mFalse\u001B[39;00m)\n\u001B[1;32m      3\u001B[0m pd\u001B[38;5;241m.\u001B[39mDataFrame(df\u001B[38;5;241m.\u001B[39mcolumns)\u001B[38;5;241m.\u001B[39mto_csv(\u001B[38;5;124m\"\u001B[39m\u001B[38;5;124m../outputs/TM_TFs.csv\u001B[39m\u001B[38;5;124m\"\u001B[39m,header\u001B[38;5;241m=\u001B[39m\u001B[38;5;28;01mFalse\u001B[39;00m, index\u001B[38;5;241m=\u001B[39m\u001B[38;5;28;01mFalse\u001B[39;00m)\n",
      "\u001B[0;31mNameError\u001B[0m: name 'preprocess_ctype_patterns' is not defined"
     ]
    }
   ],
   "source": [
    "df = preprocess_ctype_patterns(load_ctype_patterns().loc[rel_ctypes])\n",
    "pd.DataFrame(df.index).to_csv(\"../outputs/TM_Celltypes.csv\",header=False, index=False)\n",
    "pd.DataFrame(df.columns).to_csv(\"../outputs/TM_TFs.csv\",header=False, index=False)\n"
   ]
  },
  {
   "cell_type": "code",
   "execution_count": 8,
   "metadata": {
    "ExecuteTime": {
     "end_time": "2024-05-17T13:23:47.138336Z",
     "start_time": "2024-05-17T13:23:47.122263Z"
    }
   },
   "outputs": [
    {
     "ename": "NameError",
     "evalue": "name 'TFProcessStaticBeta' is not defined",
     "output_type": "error",
     "traceback": [
      "\u001B[0;31m---------------------------------------------------------------------------\u001B[0m",
      "\u001B[0;31mNameError\u001B[0m                                 Traceback (most recent call last)",
      "Cell \u001B[0;32mIn[8], line 3\u001B[0m\n\u001B[1;32m      1\u001B[0m \u001B[38;5;66;03m# Define the plot grid layout\u001B[39;00m\n\u001B[1;32m      2\u001B[0m reprog_idx \u001B[38;5;241m=\u001B[39m \u001B[38;5;241m2\u001B[39m\n\u001B[0;32m----> 3\u001B[0m enhancer_net \u001B[38;5;241m=\u001B[39m \u001B[43mTFProcessStaticBeta\u001B[49m(df,np\u001B[38;5;241m.\u001B[39mzeros(df\u001B[38;5;241m.\u001B[39mshape[\u001B[38;5;241m0\u001B[39m]))\n\u001B[1;32m      5\u001B[0m fig \u001B[38;5;241m=\u001B[39m plt\u001B[38;5;241m.\u001B[39mfigure(figsize\u001B[38;5;241m=\u001B[39m(\u001B[38;5;241m12\u001B[39m,\u001B[38;5;241m12\u001B[39m))\n\u001B[1;32m      6\u001B[0m grid \u001B[38;5;241m=\u001B[39m fig\u001B[38;5;241m.\u001B[39madd_gridspec(\u001B[38;5;241m4\u001B[39m, \u001B[38;5;241m3\u001B[39m)\n",
      "\u001B[0;31mNameError\u001B[0m: name 'TFProcessStaticBeta' is not defined"
     ]
    }
   ],
   "source": [
    "# Define the plot grid layout\n",
    "reprog_idx = 2\n",
    "enhancer_net = TFProcessStaticBeta(df,np.zeros(df.shape[0]))\n",
    "\n",
    "fig = plt.figure(figsize=(12,12))\n",
    "grid = fig.add_gridspec(4, 3)\n",
    "\n",
    "# Create the individual subplots\n",
    "\n",
    "empty = fig.add_subplot(grid[1,-1])\n",
    "heatmap_ax = fig.add_subplot(grid[:2,:-1])\n",
    "idxs=[x.lower() for x in df.index]\n",
    "Visualizations.plot_patterns(heatmap_ax,enhancer_net.patterns,aspect=.8)\n",
    "heatmap_ax.set_yticks([])\n",
    "heatmap_ax.set_xticks([])\n",
    "heatmap_ax.set_ylabel(\"TFs\")\n",
    "heatmap_ax.set_xlabel(\"enhancers, correspond to terminal cell types\")\n",
    "heatmap_ax.set_ylabel(\"TFs\")\n",
    "heatmap_ax.set_xlabel(\"enhancers, correspond to terminal cell types\")\n",
    "\n",
    "noised_attractor_ax = fig.add_subplot(grid[0,-1])\n",
    "\n",
    "pulse_plot = fig.add_subplot(grid[2,0])\n",
    "pca_ax = fig.add_subplot(grid[3,0 ])\n",
    "tf_axs = fig.add_subplot(grid[2:,1])\n",
    "en_axs = fig.add_subplot(grid[2:,2])\n",
    "\n",
    "empty.set_facecolor('white')\n",
    "empty.set_axis_off()\n",
    "\n",
    "\n",
    "\n",
    "resolvers=enhancer_net.generate_noised_input_trajectories()\n",
    "Visualizations.plot_pca_trajs(noised_attractor_ax,enhancer_net.patterns,resolvers,range(len(resolvers)))\n",
    "\n",
    "\n",
    "resolvers=enhancer_net.process_reprogramming_input(reprog_paths,verbose=False)\n",
    "Visualizations.plot_pca_trajs(pca_ax,enhancer_net.patterns,resolvers,[reprog_idx,])\n",
    "\n",
    "solver=resolvers[reprog_idx]\n",
    "\n",
    "\n",
    "pulse_plot.set_facecolor('white')\n",
    "pulse = lambda t: 1*(t>solver.t.max()/3)*(t<2*solver.t.max()/3)\n",
    "pulse_plot.plot(solver.t,pulse(solver.t),c='k')\n",
    "pulse_plot.set_yticks([])\n",
    "pulse_plot.set_xlabel('time')\n",
    "pulse_plot.set_ylabel('reprogramming factors')\n",
    "pulse_plot.set_ylim([-0.1,2])\n",
    "\n",
    "\n",
    "Visualizations.plot_enhancer_probs(en_axs,solver,aspect=2,cbar=True,label_annealing=False)\n",
    "en_axs.set_ylabel(\"enhancer\")\n",
    "en_axs.set_xlabel(\"time\")\n",
    "en_axs.set_title(\"enhancer activity\")\n",
    "\n",
    "\n",
    "Visualizations.plot_tf_levels(tf_axs,solver,aspect=2,cbar=True,label_annealing=False)\n",
    "tf_axs.set_ylabel(\"transcription factor\")\n",
    "tf_axs.set_xlabel(\"time\")\n",
    "tf_axs.set_title(\"TF expression\")\n",
    "\n",
    "fig.tight_layout()\n",
    "\n",
    "#plt.savefig('../figures/enhancer_selection.png', dpi=600)\n"
   ]
  },
  {
   "cell_type": "markdown",
   "metadata": {},
   "source": [
    "# Figure 3"
   ]
  },
  {
   "cell_type": "code",
   "execution_count": null,
   "metadata": {
    "ExecuteTime": {
     "start_time": "2024-05-17T13:23:12.335680Z"
    }
   },
   "outputs": [],
   "source": [
    "terminal_lineages = ['B Cell Lineage', 'Basophil Lineage', 'Dendritic Cell Lineage',\n",
    "                     'Eosinophil Lineage', 'Erythrocyte Lineage', 'Macrophage Lineage',\n",
    "                      'Mast Cell Lineage', 'Megakaryocyte Lineage','NK Cell Lineage', 'Neutrophil Lineage',\n",
    "                      'T Cell Lineage']\n",
    "\n",
    "tfs = pd.read_csv(\"../haemopoiesis/mouse_ensemble_tfs_from_lambertetal_isyes.unique.txt\",names=[\"geneId\",]).set_index(\"geneId\")\n",
    "data = pd.read_csv(\"../haemopoiesis/Haemopedia-Mouse-RNASeq_tpm.txt\",sep='\\t').set_index(\"geneId\")\n",
    "samples = pd.read_csv(\"../haemopoiesis/Haemopedia-Mouse-RNASeq_samples.txt\",sep='\\t')\n",
    "\n",
    "data_reduced_merged_lineage = pd.merge(samples.loc[:,[\"sampleId\",\"cell Type Description\",\"cell_lineage\"]],data.T.reset_index().rename(columns={'index': 'sampleId'})).groupby(\"cell_lineage\").mean()\n",
    "data_reduced_merged_lineage = data_reduced_merged_lineage.drop([\"Multi Potential Progenitor\",\"Restricted Potential Progenitor\"])\n",
    "\n",
    "data_reduced_merged = data_reduced_merged_lineage.copy()\n",
    "data_reduced_merged_log = np.log1p(data_reduced_merged)\n",
    "\n",
    "# get all variable TFs\n",
    "data_reduced =data_reduced_merged_log.loc[:,np.intersect1d(tfs.index.values,data_reduced_merged_log.columns)]\n",
    "data_reduced = data_reduced.loc[:,data_reduced.max()>0]\n",
    "data_reduced = data_reduced.loc[:,data_reduced.mean()>np.log1p(3)]\n",
    "data_reduced = data_reduced.loc[:,data_reduced.std()>np.log1p(3)]\n",
    "\n",
    "data_reduced.index=[x.split(\" Lineage\")[0] for x in data_reduced.index]\n",
    "\n",
    "\n",
    "pd.DataFrame(data_reduced.index).to_csv(\"../outputs/HEM_Celltypes.csv\",header=False, index=False)\n",
    "pd.DataFrame([mapping[x] for x in data_reduced.columns]).to_csv(\"../outputs/HEM_TFs.csv\",header=False, index=False)"
   ]
  },
  {
   "cell_type": "code",
   "execution_count": null,
   "metadata": {
    "ExecuteTime": {
     "start_time": "2024-05-17T13:23:12.336672Z"
    }
   },
   "outputs": [],
   "source": [
    "\n",
    "\n",
    "\n",
    "def annealing_simple_model(en_ax,tf_ax,patterns_ax):\n",
    "    N = 9 # bits\n",
    "    K=6 # overall patterns\n",
    "\n",
    "\n",
    "    df = np.random.normal(size=(K,N))\n",
    "\n",
    "    df[:,:] = 0\n",
    "    df[0][:2] = 1\n",
    "    df[1][1:3] = 1\n",
    "    df[2][3:5] = 1\n",
    "    df[3][4:6] = 1\n",
    "    df[4][6:8] = 1\n",
    "    df[5][7:9] = 1\n",
    "    df = pd.DataFrame(df)\n",
    "\n",
    "    w = np.repeat(0.0,K)\n",
    "    w[4]=0.05\n",
    "\n",
    "\n",
    "    enhancer_net = TFProcessAnnealing(df,w,beta_max=8)\n",
    "    resolver=enhancer_net.annealing(resolver.patterns[0])\n",
    "\n",
    "    Visualizations.plot_enhancer_probs(en_ax,resolver)\n",
    "    Visualizations.plot_tf_levels(tf_ax,resolver)\n",
    "    \n",
    "    \n",
    "    Visualizations.plot_patterns(patterns_ax,enhancer_net.patterns)\n",
    "    "
   ]
  },
  {
   "cell_type": "code",
   "execution_count": null,
   "metadata": {
    "code_folding": [],
    "ExecuteTime": {
     "start_time": "2024-05-17T13:23:12.337788Z"
    }
   },
   "outputs": [],
   "source": [
    "# perform and plot hierarchial clustering\n",
    "fig = plt.figure(figsize=(19,16))\n",
    "grid = fig.add_gridspec(8, 10)\n",
    "\n",
    "empty = fig.add_subplot(grid[:2,:4])\n",
    "empty.set_facecolor('white')\n",
    "empty.set_axis_off()\n",
    "\n",
    "\n",
    "dendro_fig = fig.add_subplot(grid[4:,:2])\n",
    "heatmap_fig = fig.add_subplot(grid[4:,2:5])\n",
    "umap_fig = fig.add_subplot(grid[4:,5:])\n",
    "\n",
    "en_ax = fig.add_subplot(grid[2:4,7:])\n",
    "tf_ax = fig.add_subplot(grid[2:4,4:7])\n",
    "patterns_ax = fig.add_subplot(grid[:2,4:7])\n",
    "\n",
    "annealing_simple_model(en_ax,tf_ax,patterns_ax)\n",
    "\n",
    "enhancer_net = TFProcessAnnealing(data_reduced,sigma=0.01,beta_max=50,frac_init=0)\n",
    "Visualizations.plot_heatmap_dendrogram(enhancer_net,heatmap_fig,dendro_fig)\n",
    "\n",
    "\n",
    "resolvers = enhancer_net.produce_balanced_differentiation_trajectories()\n",
    "Visualizations.umap_plot_diff_trajs(umap_fig,resolvers)\n",
    "\n",
    "fig.tight_layout()\n",
    "\n",
    "#plt.savefig('../figures/heatmap.png', dpi=600)\n"
   ]
  },
  {
   "cell_type": "markdown",
   "metadata": {},
   "source": [
    "# Figure 4"
   ]
  },
  {
   "cell_type": "code",
   "execution_count": null,
   "metadata": {
    "ExecuteTime": {
     "start_time": "2024-05-17T13:23:12.338642Z"
    }
   },
   "outputs": [],
   "source": [
    "def run_all(genome,axs,beta=50):\n",
    "    def run_orig():\n",
    "        x0=np.zeros(genome.N)\n",
    "        x0[:4]=1/4\n",
    "        return genome.run_x0(x0,beta=beta)\n",
    "    def run_ctype_A():\n",
    "        x0=np.zeros(genome.N)\n",
    "        x0[:3]=1/3\n",
    "        return genome.run_x0(x0,beta=beta)\n",
    "\n",
    "    def run_ctype_B():\n",
    "        x0=np.zeros(genome.N)\n",
    "        x0[:2]=1/3\n",
    "        x0[3]=1/3\n",
    "        return genome.run_x0(x0,beta=beta)\n",
    "    \n",
    "    def run_ctype_C():\n",
    "        x0=np.zeros(genome.N)\n",
    "        x0[2]=0.5\n",
    "        x0[4]=0.5\n",
    "        return genome.run_x0(x0,beta=beta)\n",
    "\n",
    "    Visualizations.plot_tf_levels(axs[0],run_orig(),aspect=1.5,vmax=0.5)\n",
    "    axs[0].set_title(\"ancestral cell\")\n",
    "    Visualizations.plot_tf_levels(axs[1],run_ctype_A(),aspect=1.5,vmax=0.5)\n",
    "    axs[1].set_title(\"ancestral cell\")\n",
    "    Visualizations.plot_tf_levels(axs[2],run_ctype_B(),aspect=1.5,vmax=0.5)\n",
    "    axs[2].set_title(\"ancestral cell\")\n",
    "    Visualizations.plot_tf_levels(axs[3],run_ctype_C(),aspect=1.5,vmax=0.5)\n",
    "    axs[3].set_title(\"ancestral cell\")\n",
    "    \n"
   ]
  },
  {
   "cell_type": "code",
   "execution_count": null,
   "metadata": {
    "ExecuteTime": {
     "start_time": "2024-05-17T13:23:12.339608Z"
    }
   },
   "outputs": [],
   "source": [
    "enhancer_binding_profiles =   {\"EN0\" : [0,1,2,3], \"EN1\" : [0,], \"EN2\" : [2,], \"EN3\" : [2,4]}\n",
    "enhancer_locations = {\"EN0\" : [0,0,1,1,2,3], \"EN1\" : [0,],\"EN2\" : [2,], \"EN3\" : [2,4]}\n",
    "\n",
    "genome = GenomeFromEnAssociations(enhancer_binding_profiles,enhancer_locations)\n",
    "\n",
    "\n",
    "fig = plt.figure(figsize=(12,12))\n",
    "grid = fig.add_gridspec(4, 6)\n",
    "\n",
    "\n",
    "empty=fig.add_subplot(grid[:,0])\n",
    "empty.set_facecolor('white')\n",
    "empty.set_axis_off()\n",
    "\n",
    "run_all(genome,[fig.add_subplot(grid[1,j]) for j in range(2,6)])\n",
    "genome.xi_mat[5][2]=0\n",
    "genome.xi_mat[4][3]=0\n",
    "run_all(genome,[fig.add_subplot(grid[2,j]) for j in range(2,6)])\n",
    "genome.xi_mat[0][2]=0\n",
    "genome.xi_mat[1][3]=0\n",
    "genome.xi_mat[2][2]=0\n",
    "genome.xi_mat[3][3]=0\n",
    "run_all(genome,[fig.add_subplot(grid[3,j]) for j in range(2,6)])\n",
    "fig.tight_layout()\n",
    "\n",
    "#plt.savefig('../figures/new_ctype.png', dpi=600)\n"
   ]
  }
 ],
 "metadata": {
  "kernelspec": {
   "display_name": "Python 3",
   "language": "python",
   "name": "python3"
  },
  "language_info": {
   "codemirror_mode": {
    "name": "ipython",
    "version": 3
   },
   "file_extension": ".py",
   "mimetype": "text/x-python",
   "name": "python",
   "nbconvert_exporter": "python",
   "pygments_lexer": "ipython3",
   "version": "3.8.5"
  }
 },
 "nbformat": 4,
 "nbformat_minor": 4
}
