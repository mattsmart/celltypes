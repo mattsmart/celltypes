{
 "cells": [
  {
   "cell_type": "code",
   "execution_count": 2,
   "id": "295c1710",
   "metadata": {},
   "outputs": [],
   "source": [
    "import numpy as np\n",
    "import scipy as sp"
   ]
  },
  {
   "cell_type": "code",
   "execution_count": 3,
   "id": "3ec5c900",
   "metadata": {},
   "outputs": [],
   "source": [
    " np.set_printoptions(formatter={'float': lambda x: \"{0:0.3f}\".format(x)})"
   ]
  },
  {
   "cell_type": "markdown",
   "id": "78967b76",
   "metadata": {},
   "source": [
    "# Construct $J_{ij}$ for some choice of pattern vectors"
   ]
  },
  {
   "cell_type": "code",
   "execution_count": 4,
   "id": "b9b1f119",
   "metadata": {},
   "outputs": [
    {
     "name": "stdout",
     "output_type": "stream",
     "text": [
      "[[ 1 -1 -1]\n",
      " [ 1 -1 -1]\n",
      " [ 1 -1 -1]\n",
      " [-1  1 -1]\n",
      " [-1  1 -1]\n",
      " [-1  1 -1]\n",
      " [-1 -1  1]\n",
      " [-1 -1  1]\n",
      " [-1 -1  1]]\n"
     ]
    }
   ],
   "source": [
    "xi_1 = [1,   1,  1, -1, -1, -1, -1, -1, -1]\n",
    "xi_2 = [-1, -1, -1,  1,  1,  1, -1, -1, -1]\n",
    "xi_3 = [-1, -1, -1, -1, -1, -1,  1,  1 , 1]\n",
    "xi_matrix = np.array([xi_1, xi_2, xi_3]).T\n",
    "print(xi_matrix)"
   ]
  },
  {
   "cell_type": "code",
   "execution_count": 5,
   "id": "5a890b0c",
   "metadata": {},
   "outputs": [
    {
     "name": "stdout",
     "output_type": "stream",
     "text": [
      "9 3\n"
     ]
    }
   ],
   "source": [
    "N, p = xi_matrix.shape\n",
    "print(N, p)"
   ]
  },
  {
   "cell_type": "code",
   "execution_count": 6,
   "id": "d9246226",
   "metadata": {},
   "outputs": [
    {
     "name": "stdout",
     "output_type": "stream",
     "text": [
      "[[ 9 -3 -3]\n",
      " [-3  9 -3]\n",
      " [-3 -3  9]]\n"
     ]
    }
   ],
   "source": [
    "A_matrix = xi_matrix.T @ xi_matrix\n",
    "print(A_matrix)"
   ]
  },
  {
   "cell_type": "code",
   "execution_count": 7,
   "id": "3823d504",
   "metadata": {},
   "outputs": [
    {
     "name": "stdout",
     "output_type": "stream",
     "text": [
      "[[0.167 0.083 0.083]\n",
      " [0.083 0.167 0.083]\n",
      " [0.083 0.083 0.167]]\n"
     ]
    }
   ],
   "source": [
    "A_inverse = np.linalg.inv(A_matrix)\n",
    "print(A_inverse)"
   ]
  },
  {
   "cell_type": "code",
   "execution_count": 8,
   "id": "30d18684",
   "metadata": {},
   "outputs": [
    {
     "name": "stdout",
     "output_type": "stream",
     "text": [
      "[[0.333 0.333 0.333 0.000 0.000 0.000 0.000 0.000 0.000]\n",
      " [0.333 0.333 0.333 0.000 0.000 0.000 0.000 0.000 0.000]\n",
      " [0.333 0.333 0.333 0.000 0.000 0.000 0.000 0.000 0.000]\n",
      " [0.000 0.000 0.000 0.333 0.333 0.333 0.000 0.000 0.000]\n",
      " [0.000 0.000 0.000 0.333 0.333 0.333 0.000 0.000 0.000]\n",
      " [0.000 0.000 0.000 0.333 0.333 0.333 0.000 0.000 0.000]\n",
      " [0.000 0.000 0.000 0.000 0.000 0.000 0.333 0.333 0.333]\n",
      " [0.000 0.000 0.000 0.000 0.000 0.000 0.333 0.333 0.333]\n",
      " [0.000 0.000 0.000 0.000 0.000 0.000 0.333 0.333 0.333]]\n"
     ]
    }
   ],
   "source": [
    "J_matrix = xi_matrix @ A_inverse @ xi_matrix.T\n",
    "print(J_matrix)"
   ]
  },
  {
   "cell_type": "code",
   "execution_count": 9,
   "id": "87d5a79f",
   "metadata": {},
   "outputs": [
    {
     "name": "stdout",
     "output_type": "stream",
     "text": [
      "[[0.000 0.333 0.333 0.000 0.000 0.000 0.000 0.000 0.000]\n",
      " [0.333 0.000 0.333 0.000 0.000 0.000 0.000 0.000 0.000]\n",
      " [0.333 0.333 0.000 0.000 0.000 0.000 0.000 0.000 0.000]\n",
      " [0.000 0.000 0.000 0.000 0.333 0.333 0.000 0.000 0.000]\n",
      " [0.000 0.000 0.000 0.333 0.000 0.333 0.000 0.000 0.000]\n",
      " [0.000 0.000 0.000 0.333 0.333 0.000 0.000 0.000 0.000]\n",
      " [0.000 0.000 0.000 0.000 0.000 0.000 0.000 0.333 0.333]\n",
      " [0.000 0.000 0.000 0.000 0.000 0.000 0.333 0.000 0.333]\n",
      " [0.000 0.000 0.000 0.000 0.000 0.000 0.333 0.333 0.000]]\n"
     ]
    }
   ],
   "source": [
    "J_matrix_hollowed = J_matrix - np.diag(np.diag(J_matrix))\n",
    "print(J_matrix_hollowed)"
   ]
  },
  {
   "cell_type": "markdown",
   "id": "bb691f3c",
   "metadata": {},
   "source": [
    "# Eigenvalues and eigenvectors for $\\bf{J}$"
   ]
  },
  {
   "cell_type": "code",
   "execution_count": 10,
   "id": "6859b7bc",
   "metadata": {},
   "outputs": [],
   "source": [
    "w, v = np.linalg.eig(J_matrix)"
   ]
  },
  {
   "cell_type": "code",
   "execution_count": 11,
   "id": "3346fb73",
   "metadata": {},
   "outputs": [
    {
     "data": {
      "text/plain": [
       "array([1.000, 0.000, 0.000, 1.000, 0.000, 0.000, 1.000, -0.000, 0.000])"
      ]
     },
     "execution_count": 11,
     "metadata": {},
     "output_type": "execute_result"
    }
   ],
   "source": [
    "w"
   ]
  },
  {
   "cell_type": "code",
   "execution_count": 12,
   "id": "ba395c11",
   "metadata": {},
   "outputs": [
    {
     "data": {
      "text/plain": [
       "array([[-0.577, -0.000, -0.667, 0.000, 0.000, 0.000, 0.000, 0.000, 0.000],\n",
       "       [-0.577, -0.707, -0.075, 0.000, 0.000, 0.000, 0.000, 0.000, 0.000],\n",
       "       [-0.577, 0.707, 0.742, 0.000, 0.000, 0.000, 0.000, 0.000, 0.000],\n",
       "       [0.000, 0.000, 0.000, -0.577, -0.000, -0.667, 0.000, 0.000, 0.000],\n",
       "       [0.000, 0.000, 0.000, -0.577, -0.707, -0.075, 0.000, 0.000, 0.000],\n",
       "       [0.000, 0.000, 0.000, -0.577, 0.707, 0.742, 0.000, 0.000, 0.000],\n",
       "       [0.000, 0.000, 0.000, 0.000, 0.000, 0.000, 0.577, 0.000, -0.521],\n",
       "       [0.000, 0.000, 0.000, 0.000, 0.000, 0.000, 0.577, -0.707, -0.284],\n",
       "       [0.000, 0.000, 0.000, 0.000, 0.000, 0.000, 0.577, 0.707, 0.805]])"
      ]
     },
     "execution_count": 12,
     "metadata": {},
     "output_type": "execute_result"
    }
   ],
   "source": [
    "v"
   ]
  },
  {
   "cell_type": "code",
   "execution_count": 36,
   "id": "f0dc7ec4",
   "metadata": {},
   "outputs": [
    {
     "data": {
      "text/plain": [
       "array([1.000, 1.000, 1.000, -1.000, -1.000, -1.000, -1.000, -1.000,\n",
       "       -1.000])"
      ]
     },
     "execution_count": 36,
     "metadata": {},
     "output_type": "execute_result"
    }
   ],
   "source": [
    "J_matrix @ xi_1"
   ]
  },
  {
   "cell_type": "code",
   "execution_count": 37,
   "id": "7fee1f66",
   "metadata": {},
   "outputs": [
    {
     "data": {
      "text/plain": [
       "array([-1.000, -1.000, -1.000, 1.000, 1.000, 1.000, -1.000, -1.000,\n",
       "       -1.000])"
      ]
     },
     "execution_count": 37,
     "metadata": {},
     "output_type": "execute_result"
    }
   ],
   "source": [
    "J_matrix @ xi_2"
   ]
  },
  {
   "cell_type": "code",
   "execution_count": 38,
   "id": "1a7812da",
   "metadata": {},
   "outputs": [
    {
     "data": {
      "text/plain": [
       "array([-1.000, -1.000, -1.000, -1.000, -1.000, -1.000, 1.000, 1.000,\n",
       "       1.000])"
      ]
     },
     "execution_count": 38,
     "metadata": {},
     "output_type": "execute_result"
    }
   ],
   "source": [
    "J_matrix @ xi_3"
   ]
  },
  {
   "cell_type": "markdown",
   "id": "bd3ef736",
   "metadata": {},
   "source": [
    "# Eigenvalues and eigenvectors for $\\bf{J'}$ with $J_{ii}$ set to $0$"
   ]
  },
  {
   "cell_type": "code",
   "execution_count": 15,
   "id": "8c2ea373",
   "metadata": {},
   "outputs": [],
   "source": [
    "w_prime, v_prime = np.linalg.eig(J_matrix_hollowed)"
   ]
  },
  {
   "cell_type": "code",
   "execution_count": 16,
   "id": "f6a3c923",
   "metadata": {},
   "outputs": [
    {
     "data": {
      "text/plain": [
       "array([-0.333, 0.667, -0.333, -0.333, 0.667, -0.333, -0.333, 0.667,\n",
       "       -0.333])"
      ]
     },
     "execution_count": 16,
     "metadata": {},
     "output_type": "execute_result"
    }
   ],
   "source": [
    "w_prime"
   ]
  },
  {
   "cell_type": "code",
   "execution_count": 17,
   "id": "8039cc58",
   "metadata": {},
   "outputs": [
    {
     "data": {
      "text/plain": [
       "array([[-0.816, 0.577, 0.201, 0.000, 0.000, 0.000, 0.000, 0.000, 0.000],\n",
       "       [0.408, 0.577, -0.786, 0.000, 0.000, 0.000, 0.000, 0.000, 0.000],\n",
       "       [0.408, 0.577, 0.585, 0.000, 0.000, 0.000, 0.000, 0.000, 0.000],\n",
       "       [0.000, 0.000, 0.000, -0.816, 0.577, 0.201, 0.000, 0.000, 0.000],\n",
       "       [0.000, 0.000, 0.000, 0.408, 0.577, -0.786, 0.000, 0.000, 0.000],\n",
       "       [0.000, 0.000, 0.000, 0.408, 0.577, 0.585, 0.000, 0.000, 0.000],\n",
       "       [0.000, 0.000, 0.000, 0.000, 0.000, 0.000, -0.816, 0.577, -0.144],\n",
       "       [0.000, 0.000, 0.000, 0.000, 0.000, 0.000, 0.408, 0.577, -0.624],\n",
       "       [0.000, 0.000, 0.000, 0.000, 0.000, 0.000, 0.408, 0.577, 0.768]])"
      ]
     },
     "execution_count": 17,
     "metadata": {},
     "output_type": "execute_result"
    }
   ],
   "source": [
    "v_prime"
   ]
  },
  {
   "cell_type": "code",
   "execution_count": 41,
   "id": "24c69bd8",
   "metadata": {},
   "outputs": [
    {
     "data": {
      "text/plain": [
       "array([0.667, 0.667, 0.667, -0.667, -0.667, -0.667, -0.667, -0.667,\n",
       "       -0.667])"
      ]
     },
     "execution_count": 41,
     "metadata": {},
     "output_type": "execute_result"
    }
   ],
   "source": [
    "J_matrix_hollowed @ xi_1 "
   ]
  },
  {
   "cell_type": "code",
   "execution_count": 40,
   "id": "2a3b2c57",
   "metadata": {},
   "outputs": [
    {
     "data": {
      "text/plain": [
       "array([-0.667, -0.667, -0.667, 0.667, 0.667, 0.667, -0.667, -0.667,\n",
       "       -0.667])"
      ]
     },
     "execution_count": 40,
     "metadata": {},
     "output_type": "execute_result"
    }
   ],
   "source": [
    "J_matrix_hollowed @ xi_2"
   ]
  },
  {
   "cell_type": "code",
   "execution_count": 39,
   "id": "ecf8c441",
   "metadata": {},
   "outputs": [
    {
     "data": {
      "text/plain": [
       "array([-0.667, -0.667, -0.667, -0.667, -0.667, -0.667, 0.667, 0.667,\n",
       "       0.667])"
      ]
     },
     "execution_count": 39,
     "metadata": {},
     "output_type": "execute_result"
    }
   ],
   "source": [
    "J_matrix_hollowed @ xi_3"
   ]
  },
  {
   "cell_type": "code",
   "execution_count": null,
   "id": "ef2a0864",
   "metadata": {},
   "outputs": [],
   "source": []
  }
 ],
 "metadata": {
  "kernelspec": {
   "display_name": "Python 3 (ipykernel)",
   "language": "python",
   "name": "python3"
  },
  "language_info": {
   "codemirror_mode": {
    "name": "ipython",
    "version": 3
   },
   "file_extension": ".py",
   "mimetype": "text/x-python",
   "name": "python",
   "nbconvert_exporter": "python",
   "pygments_lexer": "ipython3",
   "version": "3.8.10"
  }
 },
 "nbformat": 4,
 "nbformat_minor": 5
}
