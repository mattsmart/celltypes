{
 "cells": [
  {
   "cell_type": "markdown",
   "id": "66598d3a",
   "metadata": {},
   "source": [
    "# Tissue Patterning"
   ]
  },
  {
   "cell_type": "code",
   "execution_count": null,
   "id": "ac81f229-479e-40b4-8129-ba0315e556bc",
   "metadata": {
    "ExecuteTime": {
     "end_time": "2023-12-01T14:55:17.633033Z",
     "start_time": "2023-12-01T14:55:16.808155Z"
    }
   },
   "outputs": [],
   "source": [
    "import matplotlib.pyplot as plt\n",
    "import matplotlib.patheffects as patheffects\n",
    "\n",
    "# conda install ipywidgets for movie \n",
    "from ipywidgets import interact, FloatSlider, IntSlider"
   ]
  },
  {
   "cell_type": "code",
   "execution_count": null,
   "id": "5200cad8-ee50-4214-a719-0b9cba8ff701",
   "metadata": {
    "ExecuteTime": {
     "end_time": "2023-12-01T14:55:17.663573Z",
     "start_time": "2023-12-01T14:55:17.635327Z"
    }
   },
   "outputs": [],
   "source": [
    "%matplotlib inline"
   ]
  },
  {
   "cell_type": "markdown",
   "id": "79400ae7",
   "metadata": {},
   "source": [
    "## 1. Emergent properties of collective gene-expression patterns in multicellular systems\n",
    "Smart, M., & Zilman, A. (2023). Emergent properties of collective gene-expression patterns in multicellular systems. *Cell Reports Physical Science*, 101247.\n",
    "[Paper Link](https://doi.org/10.1016/j.xcrp.2023.101247)\n",
    "### 1.1 Single-cell model\n",
    "Assume cell state is described by the activity of $N$ genes in the cell. Let $\\xi_1, \\ldots, \\xi_N$ denotes the desired cell types, with $\\xi_i\\in\\{1,-1\\}^N$. Let $\\hat{J}=\\xi(\\xi^{T}\\xi)^{-1}\\xi^T$ represent the gene-gene interactions. \n",
    "* First, we want to show that $\\xi_i$ is the eigenvector of matrix $\\hat{J}$. That is to show that $$\\hat{J}\\xi_i=\\lambda_i\\xi_i.$$\n",
    "Let $A=(\\xi^{T}\\xi)^{-1}\\xi^T$. Note that \n",
    "$$A\\xi=(\\xi^{T}\\xi)^{-1}\\xi^T\\xi=I.$$\n",
    "This implies the following,\n",
    "\\begin{align*}\n",
    "\\hat{J}\\xi&=\\xi A \\xi\\\\\n",
    "&=\\xi I\\\\\n",
    "&=I\\xi.\n",
    "\\end{align*}\n",
    "Therefore, $\\xi_i$ are eigenvectors of matrix $\\hat{J}$ for the repeated eigenvaule $\\lambda=1$.\n",
    "\n",
    "\n",
    "* Next, to get the final gene-gene interaction matrix J, the authors set the diagonal value to zero. That is,\n",
    "$$J=\\hat J - \\text{diag}(\\hat J).$$\n",
    "Assuming all entries of matrix $\\hat J$ are the same, the above transformation won't change the eigenspace of the matrix. But, is it guaranteed all diagonal entries are the same? "
   ]
  },
  {
   "cell_type": "code",
   "execution_count": null,
   "id": "ae4d763e",
   "metadata": {
    "ExecuteTime": {
     "end_time": "2023-12-01T14:55:19.268393Z",
     "start_time": "2023-12-01T14:55:17.662997Z"
    }
   },
   "outputs": [],
   "source": [
    "import numpy as np\n",
    "import random\n",
    "from numpy.linalg import inv\n",
    "from scipy.stats import bernoulli\n",
    "from numpy import linalg as LA\n",
    "\n",
    "N = 9  # number of genes\n",
    "num_states = 2 ** N  # number of unique binary states for N genes\n",
    "assert N <= 12   # parts of code below assume 4 genes; TODO: generalize\n",
    "\n",
    "# Construct the gene-gene interaction matrix J\n",
    "#xi1 = np.array([-1,1,-1,1,1])  # nov.26\n",
    "#xi2 = np.array([-1,1,1,1,-1])  # nov.26\n",
    "\n",
    "xi1 = np.array([ 1, 1, 1, -1,-1,-1, -1,-1,-1])\n",
    "xi2 = np.array([-1,-1,-1,  1, 1, 1, -1,-1,-1])\n",
    "xi3 = np.array([-1,-1,-1, -1,-1,-1,  1, 1, 1])\n",
    "\n",
    "assert len(xi1) == N\n",
    "xi = np.stack((xi1, xi2), axis=-1)\n",
    "Jhat = xi @ inv(xi.T @ xi) @ xi.T\n",
    "J = Jhat - np.diag(np.diag(Jhat))\n",
    "print('example evec:', Jhat @ xi2)"
   ]
  },
  {
   "cell_type": "markdown",
   "id": "1e1bd496",
   "metadata": {},
   "source": [
    "### 1.2 Single Cell Hamiltonian\n",
    "\n",
    "$$\\mathcal{H}(s_0)= -\\frac12(s^TJs) - h^Ts$$"
   ]
  },
  {
   "cell_type": "code",
   "execution_count": null,
   "id": "430d867f",
   "metadata": {
    "ExecuteTime": {
     "end_time": "2023-12-01T14:55:19.273457Z",
     "start_time": "2023-12-01T14:55:19.252493Z"
    }
   },
   "outputs": [],
   "source": [
    "# Generate all possible states of the cell and verify the lowest energy state in a single cell\n",
    "xn = xi1.shape[0]\n",
    "comb = np.tile([-1,1], (xn, 1)).tolist()\n",
    "S = np.stack(np.meshgrid(*comb), -1).reshape(-1, xn).T\n",
    "H = np.diag(-S.T @ J @ S/2)\n",
    "ind_xi = np.where(abs(H - H.min())<1e-6)[0]\n",
    "print(\"The energy for all cell states are\\n\", np.round(H,2))\n",
    "print(\"The lowest energy states in a single cell are the column vectors of matrix:\\n\", S[:, ind_xi])\n",
    "print(\"The global minimum are cell states with ID:\", ind_xi)\n",
    "\n",
    "ind_glob_max = np.where(abs(H - H.max())<1e-6)[0]\n",
    "print(\"The global maximum are cell states with ID:\", ind_glob_max)\n",
    "\n",
    "ind_neighb = [sum(abs(np.tile(S[:,i], (num_states, 1)).T - S)) == 2 for i in range(num_states)]\n",
    "local_min = np.array([sum((H[i]-1e-6)<=H[ind_neighb[i]]) for i in range(num_states)])\n",
    "print(\"The local minimum are cell states with ID:\", np.where(local_min==N)[0])\n",
    "\n",
    "local_max = np.array([sum((H[i]+1e-6)>=H[ind_neighb[i]]) for i in range(num_states)])\n",
    "print(\"The local maximum are cell states with ID:\", np.where(local_max==N)[0])"
   ]
  },
  {
   "cell_type": "code",
   "execution_count": null,
   "id": "cd4f681d-8f94-40e3-a3e4-b74e2cf61e93",
   "metadata": {},
   "outputs": [],
   "source": [
    "plt.bar(np.arange(num_states), height=H)\n",
    "plt.plot(H, 'ok')\n",
    "plt.title('Visualization of single-cell energy landscape (neighbors misleading)')\n",
    "plt.xlabel(r'state index $i$')\n",
    "plt.ylabel(r'$H_i$')"
   ]
  },
  {
   "cell_type": "markdown",
   "id": "06ccff4d",
   "metadata": {},
   "source": [
    "### 1.3 Multicellular Model\n",
    "\n",
    "Assume a given tissue (multicellular stystem) has $M$ different cells. Let $s_i\\in\\{1,-1\\}^N$ represent the $i$-th cell. The Hamiltonian of the system is calculated as the following,\n",
    "$$\\mathcal{H}(s_1,s_2,\\ldots, s_M)=\\sum_i^M -\\frac12(s_i^TJs_i)+\\gamma \\sum_i\\sum_j A_{ij}f(s_i,s_j).$$\n",
    "* The first term describes the summation of the Hamiltonian of each cell\n",
    "* The second term describes the Hamiltonian from cell-cell interaction,\n",
    "$$f(s_i,s_j)=-\\frac12 s_i^TWs_j,$$\n",
    "with strength $\\gamma$ and randomly sampled matrix $W$.\n"
   ]
  },
  {
   "cell_type": "code",
   "execution_count": null,
   "id": "49ea1de1",
   "metadata": {
    "ExecuteTime": {
     "end_time": "2023-12-01T14:55:19.493358Z",
     "start_time": "2023-12-01T14:55:19.268754Z"
    }
   },
   "outputs": [],
   "source": [
    "# Cell arrangement: m1 rows of m2 cells\n",
    "m1 = 10   # no. of rows\n",
    "m2 = 3    # no. of columns \n",
    "M = m1 * m2  # total number of cells\n",
    "\n",
    "# Generating neighborhood matrix A\n",
    "A = np.zeros((M, M))\n",
    "k = 0\n",
    "for i in np.arange(1, m1+1):\n",
    "    for j in np.arange(1, m2+1):\n",
    "        B = np.zeros((m1+2, m2+2))\n",
    "        B[i-1:i+2, j-1:j+2] = 1\n",
    "        B[i, j] = 0\n",
    "        B_temp = B[1:m1+1, 1:m2+1]\n",
    "        A[k, :] = B_temp.flatten()\n",
    "        k += 1\n",
    "\n",
    "# Ramdon inter-cellular communication matrix W\n",
    "np.random.seed(100)\n",
    "W = np.random.uniform(-1,1, (N,N))\n",
    "\n",
    "# Print the adjacency matrix and the neighborhoood for a random cell\n",
    "fig, axs = plt.subplots(1,2,layout='constrained')\n",
    "\n",
    "axs[0].title.set_text('Adjacency matrix for %d = %d x %d cells' % (M, m1, m2))\n",
    "axs[0].imshow(A, interpolation=None)\n",
    "#axs[0].set(xticks=np.arange(-0.5, M-0.5, 1), yticks=np.arange(-0.5, M-0.5, 1))\n",
    "for idx in range(M-1):\n",
    "    pos = idx + 0.5\n",
    "    axs[0].axvline(pos, color='k', linewidth=0.4)\n",
    "    #axs[0].axvline(pos, color='w', linewidth=0.3)\n",
    "    axs[0].axhline(pos, color='k', linewidth=0.4)\n",
    "    #axs[0].axhline(pos, color='w', linewidth=0.3)\n",
    "    \n",
    "#axs[0].grid(color='w', linewidth=0.2)   \n",
    "#axs[0].grid(color='k', linewidth=0.6)   \n",
    "\n",
    "np.random.seed(seed=None)\n",
    "i_rand = np.random.randint(M)  # pick a random cell\n",
    "i_neigb = A[i_rand,]\n",
    "i_neigb[i_rand] = 2\n",
    "\n",
    "extent = (0, m2, m1, 0)\n",
    "axs[1].imshow(i_neigb.reshape(m1,m2), extent=extent)\n",
    "axs[1].title.set_text('Visual Inspection of\\n Cell %d (yellow)\\'s Neighbors (cyan)'  % i_rand)\n",
    "axs[1].set(xticks=range(0, m2, 1), yticks=range(0, m1, 1))\n",
    "axs[1].grid(color='w', linewidth=2)   \n",
    "axs[1].set_frame_on(False)\n",
    "plt.show()"
   ]
  },
  {
   "cell_type": "code",
   "execution_count": null,
   "id": "17c5c47f",
   "metadata": {
    "ExecuteTime": {
     "end_time": "2023-12-01T14:55:19.835118Z",
     "start_time": "2023-12-01T14:55:19.496454Z"
    }
   },
   "outputs": [],
   "source": [
    "T = 100                              # Simulation Time Steps\n",
    "s_all = np.zeros((xn, M, T+1))       # Storing Transitions\n",
    "gamma = 0                           # Cell-cell communication strength\n",
    "beta = 2000                          # Noise strength\n",
    "\n",
    "# Initial tissue state\n",
    "#  - iterate over cells\n",
    "for i in range(M):\n",
    "    r = np.random.randint(len(S.T))\n",
    "    s_all[:,i,0] = S.T[r]\n",
    "    #s_all[:,i,0] = [1,1,-1,1]\n",
    "\n",
    "# Stochastic update one gene at a time\n",
    "for k in range(1, T+1):\n",
    "    for i in range(M):\n",
    "        s = np.copy(s_all[:,i,k-1])\n",
    "        cell_trans = s\n",
    "        for j in range(N):\n",
    "            ind = A[i,:] != 0\n",
    "            h = J @ s.T + gamma * np.sum(s @ W @ s_all[:,ind,k-1])\n",
    "            transition_prob = 1 / ( 1 + np.exp(-2 * beta * h[j]) )\n",
    "            cell_trans[j] = 2 * bernoulli.rvs(transition_prob) - 1\n",
    "            s_all[j,i,k] = cell_trans[j]\n"
   ]
  },
  {
   "cell_type": "code",
   "execution_count": null,
   "id": "91cef5dc",
   "metadata": {
    "ExecuteTime": {
     "end_time": "2023-12-01T14:55:19.931815Z",
     "start_time": "2023-12-01T14:55:19.839890Z"
    }
   },
   "outputs": [],
   "source": [
    "# Definition of the plot_tissue function, our \"callback function\".\n",
    "def plot_tissue_integer(t):\n",
    "    cell_color = [1, 2, 4, 8, 16] @ np.heaviside(s_all[:,:,t], 0)\n",
    "    cell_color.resize((m1, m2))\n",
    "\n",
    "    text_kwargs = dict(ha='center', va='center', fontsize=10, path_effects=[patheffects.withStroke(linewidth=1, foreground='black')])\n",
    "    plt.imshow(cell_color, vmin=0, vmax=15)\n",
    "#    plt.colorbar(ticks=np.arange(0, 2**4, 4))\n",
    "    color_index_lowH = [1, 2, 4, 8, 16] @ np.heaviside(S[:,ind_xi], 0) #list the color index for cells with lowest Hamiltonian\n",
    "    col_lowH = 'green'\n",
    "    color_index_highH = [1, 2, 4, 8, 16] @ np.heaviside(S[:,ind_glob_max], 0) #list the color index for cells with lowest Hamiltonian\n",
    "    col_highH = 'red'\n",
    "\n",
    "    # add state text to each cell\n",
    "    for i in range(m1):\n",
    "        for j in range(m2):\n",
    "            cell_idx = j + i * m2\n",
    "            cell_color_ij = cell_color[i, j]\n",
    "            if cell_color_ij in color_index_lowH:\n",
    "                col= col_lowH\n",
    "            elif cell_color_ij in color_index_highH:\n",
    "                col= col_highH\n",
    "            else:\n",
    "                col = 'white'\n",
    "            #cell_state = list(np.heaviside(s_all[:, cell_idx, t], 0))\n",
    "            plt.text(j, i, 'c%d\\n%d' % (cell_idx, cell_color[i, j]), **text_kwargs, c=col)\n",
    "    plt.text(m2+1, 0.5, 'Global Max.', **text_kwargs, c=col_highH)\n",
    "    plt.text(m2+1, 1.5, 'Global Min.', **text_kwargs, c=col_lowH)\n",
    "    plt.show()\n",
    "\n",
    "\n",
    "## Generate our user interface.\n",
    "interact(plot_tissue_integer, t=IntSlider(min=0, max=T, step=1, value=0))"
   ]
  },
  {
   "cell_type": "markdown",
   "id": "400602f8-2472-4590-8605-1cfae0df4d9b",
   "metadata": {},
   "source": [
    "### (Work in progress) Additional plotting tool -- scatterplot visualization of cell state (circle = gene on; absence = off)\n",
    "- step 1: push state size onto nearest square; pad with zeros and mask the dummy values\n",
    "- step 2: plot backdrop 'square' on gene indices of square (nothing for masked dumnmy entries)\n",
    "- step 3: plot circle marker for genes that are ON (val = 1)"
   ]
  },
  {
   "cell_type": "code",
   "execution_count": null,
   "id": "a9a47210-af2c-4a90-af5f-ee398a57d95b",
   "metadata": {
    "ExecuteTime": {
     "end_time": "2023-12-01T14:55:19.932083Z",
     "start_time": "2023-12-01T14:55:19.927177Z"
    }
   },
   "outputs": [],
   "source": [
    "def pad_to_len_square(x, square_size):\n",
    "    x_pad = np.zeros(square_size ** 2)    \n",
    "    x_pad[:len(x)] = x\n",
    "    return x_pad"
   ]
  },
  {
   "cell_type": "code",
   "execution_count": null,
   "id": "532bb8c8-1363-4d16-a2bd-f2d40b65b477",
   "metadata": {
    "ExecuteTime": {
     "end_time": "2023-12-01T14:55:19.936551Z",
     "start_time": "2023-12-01T14:55:19.931600Z"
    }
   },
   "outputs": [],
   "source": [
    "def plot_rna_square(vals, ns, top_left, marker_size=100, extent=1.0, ax=None):\n",
    "    \"\"\"\n",
    "    vals:   np.array values in -1, 1 or 0 (0 means undefined -- mask it out)\n",
    "    ns:     side length of closest square s.t. ns ** 2 >= vals.size()\n",
    "    top_left: x,y coordinates to place scatter plot\n",
    "    marker_size: 100 (square size)\n",
    "    extent: scale of marker (x, y) coordinates, which should be proportional to marker size\n",
    "    \"\"\"\n",
    "    square_size = extent * 200 * np.ones(ns ** 2)\n",
    "    circle_size = 0.25 * square_size\n",
    "    \n",
    "    # construct array to maps gene index to (x, y) position\n",
    "    # - xv, yv construction: first gene in top left, last bottom right\n",
    "    xv, yv = np.meshgrid(\n",
    "        np.linspace(top_left[0], top_left[0] + extent, ns), \n",
    "        np.linspace(top_left[1], top_left[1] - extent, ns), \n",
    "        indexing='xy')\n",
    "\n",
    "    if ax is None:\n",
    "        ax = plt.figure().gca()\n",
    "    \n",
    "    # where vals == non-zero; squares 's'\n",
    "    square_masked = np.ma.masked_where(vals == 0, square_size)\n",
    "    ax.scatter(xv, yv, square_masked, marker='s', c='blue') \n",
    "    \n",
    "    # where vals == 1.0;      circles 'o'\n",
    "    circle_masked = np.ma.masked_where(vals != 1.0, circle_size)\n",
    "    ax.scatter(xv, yv, circle_masked, marker='o', c='yellow')\n",
    "    \n",
    "    return\n",
    "\n",
    "\"\"\"\n",
    "s = np.array(\n",
    "    [1,1,1,-1,-1,-1,1,1]\n",
    ")\n",
    "n = len(s)\n",
    "\n",
    "square_size = np.ceil(np.sqrt(n)).astype(int)\n",
    "\n",
    "#s_pad = np.zeros(square_size ** 2)\n",
    "#s_pad[:n] = s\n",
    "s_pad = pad_to_len_square(s, square_size)\n",
    "\n",
    "s_sqr = s_pad.reshape(square_size, square_size)\n",
    "\n",
    "print(s)\n",
    "print(s_pad)\n",
    "print(s_sqr)\n",
    "\n",
    "plt.imshow(s_sqr)\n",
    "\n",
    "plot_rna_square(s_pad, 3, (5, 5))\n",
    "plt.show()\n",
    "\"\"\""
   ]
  },
  {
   "cell_type": "code",
   "execution_count": null,
   "id": "e7f5d91a-90ec-4b0c-bcf6-0c7ea3c6a5a8",
   "metadata": {
    "ExecuteTime": {
     "end_time": "2023-12-01T14:55:20.066089Z",
     "start_time": "2023-12-01T14:55:19.937123Z"
    }
   },
   "outputs": [],
   "source": [
    "# Definition of the plot_tissue function, our \"callback function\".\n",
    "def plot_tissue_symbolic(t):\n",
    "    cell_color = [1, 2, 4, 8] @ np.heaviside(s_all[:,:,t], 0)\n",
    "    cell_color.resize((m1, m2))\n",
    "    plt.imshow(cell_color, vmin=0, vmax=15)\n",
    "    plt.colorbar(ticks=np.arange(0, 2**4, 4))\n",
    "    \n",
    "    square_size = np.ceil(np.sqrt(N)).astype(int)\n",
    "    \n",
    "    for i in range(m1):\n",
    "        for j in range(m2):\n",
    "            cell_idx = j + i * m2\n",
    "            cell_state = s_all[:, cell_idx, t]\n",
    "            cell_state_padded = pad_to_len_square(cell_state, square_size)\n",
    "            \n",
    "            symbol_extent = 0.2\n",
    "            top_left = (j - 0.5 * symbol_extent, \n",
    "                        i + 0.5 * symbol_extent)\n",
    "            plot_rna_square(cell_state_padded, square_size, top_left, ax=plt.gca(), extent=symbol_extent)\n",
    "    plt.show()\n",
    "\n",
    "## Generate our user interface.\n",
    "interact(plot_tissue_symbolic, t=IntSlider(min=0, max=T, step=1, value=0))"
   ]
  },
  {
   "cell_type": "markdown",
   "id": "eb9bfbe7-5c85-4ff0-b358-dba4559c8e7e",
   "metadata": {},
   "source": [
    "#### Tinkering/delete: Imshow testing (data rotation, x vs y)"
   ]
  },
  {
   "cell_type": "code",
   "execution_count": null,
   "id": "6be9ed4f-815e-4143-9986-28dee2657602",
   "metadata": {
    "ExecuteTime": {
     "end_time": "2023-12-01T14:55:20.066995Z",
     "start_time": "2023-12-01T14:55:20.064681Z"
    }
   },
   "outputs": [],
   "source": [
    "mx = 6\n",
    "my = 10\n",
    "x_vec = np.arange(mx * my)\n",
    "x_arr = x_vec.reshape((mx, my))"
   ]
  },
  {
   "cell_type": "code",
   "execution_count": null,
   "id": "4896e4f5-f2f9-4eed-ad17-cf907f682f42",
   "metadata": {
    "ExecuteTime": {
     "end_time": "2023-12-01T14:55:20.071336Z",
     "start_time": "2023-12-01T14:55:20.067994Z"
    }
   },
   "outputs": [],
   "source": [
    "print(x_arr)"
   ]
  },
  {
   "cell_type": "code",
   "execution_count": null,
   "id": "5422d5c1-de54-478c-ad9e-689a17a69ce7",
   "metadata": {
    "ExecuteTime": {
     "end_time": "2023-12-01T14:55:20.233370Z",
     "start_time": "2023-12-01T14:55:20.073738Z"
    }
   },
   "outputs": [],
   "source": [
    "im = plt.imshow(x_arr)\n",
    "plt.colorbar(im)\n",
    "for i in range(mx):\n",
    "    for j in range(my):\n",
    "        cell_idx = j + i * my\n",
    "        plt.text(j, i, cell_idx, fontsize=13, ha='center', va='center', c='white', \n",
    "                    path_effects=[patheffects.withStroke(linewidth=2, foreground='black')])\n",
    "        #plt.text(j, i, cell_idx, fontsize=12, ha='center', c='k',\n",
    "        #            path_effects=[patheffects.withStroke(linewidth=2, foreground='white')])"
   ]
  },
  {
   "cell_type": "code",
   "execution_count": null,
   "id": "ab45cf5b-e19b-4739-b596-a98b4e5380aa",
   "metadata": {
    "ExecuteTime": {
     "end_time": "2023-12-01T14:55:20.237474Z",
     "start_time": "2023-12-01T14:55:20.235590Z"
    }
   },
   "outputs": [],
   "source": []
  }
 ],
 "metadata": {
  "kernelspec": {
   "display_name": "Python 3 (ipykernel)",
   "language": "python",
   "name": "python3"
  },
  "language_info": {
   "codemirror_mode": {
    "name": "ipython",
    "version": 3
   },
   "file_extension": ".py",
   "mimetype": "text/x-python",
   "name": "python",
   "nbconvert_exporter": "python",
   "pygments_lexer": "ipython3",
   "version": "3.11.0"
  }
 },
 "nbformat": 4,
 "nbformat_minor": 5
}
